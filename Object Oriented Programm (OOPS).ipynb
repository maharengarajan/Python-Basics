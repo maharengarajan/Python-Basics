{
 "cells": [
  {
   "cell_type": "code",
   "execution_count": 11,
   "id": "6e88f8f2",
   "metadata": {},
   "outputs": [],
   "source": [
    "class car:\n",
    "    def __init__(self,brand_name,fuel_type,body_type):\n",
    "        \n",
    "        self.brand_name = brand_name\n",
    "        self.fuel_type = fuel_type\n",
    "        self.body_type = body_type\n",
    "        \n",
    "    def des_car(self):\n",
    "        print(self.brand_name,self.fuel_type,self.body_type)\n",
    "        "
   ]
  },
  {
   "cell_type": "code",
   "execution_count": 16,
   "id": "d2457876",
   "metadata": {},
   "outputs": [],
   "source": [
    "innova = car(\"toyotta\",\"petrol\",\"SUV\")\n",
    "nexon = car(\"tata\",\"diesel\",\"min_suv\")\n",
    "fortuner = car(\"toyota\",\"petrol\",\"suv\")"
   ]
  },
  {
   "cell_type": "code",
   "execution_count": 13,
   "id": "a6d270c8",
   "metadata": {},
   "outputs": [
    {
     "name": "stdout",
     "output_type": "stream",
     "text": [
      "toyotta petrol SUV\n"
     ]
    }
   ],
   "source": [
    "innova.des_car()"
   ]
  },
  {
   "cell_type": "code",
   "execution_count": 14,
   "id": "5e24bcc8",
   "metadata": {},
   "outputs": [
    {
     "data": {
      "text/plain": [
       "'SUV'"
      ]
     },
     "execution_count": 14,
     "metadata": {},
     "output_type": "execute_result"
    }
   ],
   "source": [
    "innova.body_type"
   ]
  },
  {
   "cell_type": "code",
   "execution_count": 15,
   "id": "2fa17506",
   "metadata": {},
   "outputs": [
    {
     "data": {
      "text/plain": [
       "'petrol'"
      ]
     },
     "execution_count": 15,
     "metadata": {},
     "output_type": "execute_result"
    }
   ],
   "source": [
    "innova.fuel_type"
   ]
  },
  {
   "cell_type": "code",
   "execution_count": 17,
   "id": "56cbc343",
   "metadata": {},
   "outputs": [
    {
     "name": "stdout",
     "output_type": "stream",
     "text": [
      "tata diesel min_suv\n"
     ]
    }
   ],
   "source": [
    "nexon.des_car()"
   ]
  },
  {
   "cell_type": "code",
   "execution_count": 18,
   "id": "12ec9634",
   "metadata": {},
   "outputs": [
    {
     "name": "stdout",
     "output_type": "stream",
     "text": [
      "toyota petrol suv\n"
     ]
    }
   ],
   "source": [
    "fortuner.des_car()"
   ]
  },
  {
   "cell_type": "code",
   "execution_count": 19,
   "id": "ebd47194",
   "metadata": {},
   "outputs": [
    {
     "name": "stdout",
     "output_type": "stream",
     "text": [
      "<class 'int'>\n"
     ]
    }
   ],
   "source": [
    "a = 10 #here a = variable of int class\n",
    "print(type(a))"
   ]
  },
  {
   "cell_type": "code",
   "execution_count": null,
   "id": "46f0feba",
   "metadata": {},
   "outputs": [],
   "source": [
    "s = \"raja\" #here s = vaiable of str class"
   ]
  },
  {
   "cell_type": "code",
   "execution_count": 1,
   "id": "33048bc8",
   "metadata": {},
   "outputs": [],
   "source": [
    "class car:\n",
    "    def __init__(self,brand_name,fuel_type,body_type):\n",
    "        \n",
    "        self.a = brand_name\n",
    "        self.b = fuel_type\n",
    "        self.c = body_type\n",
    "        \n",
    "    def des_car(self):\n",
    "        print(self.brand_name,self.fuel_type,self.body_type)"
   ]
  },
  {
   "cell_type": "code",
   "execution_count": 2,
   "id": "b4a19e3b",
   "metadata": {},
   "outputs": [],
   "source": [
    "innova = car(\"toyotta\",\"petrol\",\"SUV\")\n",
    "nexon = car(\"tata\",\"diesel\",\"min_suv\")\n",
    "fortuner = car(\"toyota\",\"petrol\",\"suv\")"
   ]
  },
  {
   "cell_type": "code",
   "execution_count": 3,
   "id": "e6504643",
   "metadata": {},
   "outputs": [
    {
     "data": {
      "text/plain": [
       "'diesel'"
      ]
     },
     "execution_count": 3,
     "metadata": {},
     "output_type": "execute_result"
    }
   ],
   "source": [
    "nexon.b"
   ]
  },
  {
   "cell_type": "code",
   "execution_count": 4,
   "id": "3702e0d0",
   "metadata": {},
   "outputs": [
    {
     "data": {
      "text/plain": [
       "'SUV'"
      ]
     },
     "execution_count": 4,
     "metadata": {},
     "output_type": "execute_result"
    }
   ],
   "source": [
    "innova.c"
   ]
  },
  {
   "cell_type": "code",
   "execution_count": 6,
   "id": "7106d6fe",
   "metadata": {},
   "outputs": [
    {
     "ename": "AttributeError",
     "evalue": "'car' object has no attribute 'brand_name'",
     "output_type": "error",
     "traceback": [
      "\u001b[1;31m---------------------------------------------------------------------------\u001b[0m",
      "\u001b[1;31mAttributeError\u001b[0m                            Traceback (most recent call last)",
      "\u001b[1;32m~\\AppData\\Local\\Temp/ipykernel_7028/11700860.py\u001b[0m in \u001b[0;36m<module>\u001b[1;34m\u001b[0m\n\u001b[1;32m----> 1\u001b[1;33m \u001b[0minnova\u001b[0m\u001b[1;33m.\u001b[0m\u001b[0mdes_car\u001b[0m\u001b[1;33m(\u001b[0m\u001b[1;33m)\u001b[0m\u001b[1;33m\u001b[0m\u001b[1;33m\u001b[0m\u001b[0m\n\u001b[0m",
      "\u001b[1;32m~\\AppData\\Local\\Temp/ipykernel_7028/1853954402.py\u001b[0m in \u001b[0;36mdes_car\u001b[1;34m(self)\u001b[0m\n\u001b[0;32m      7\u001b[0m \u001b[1;33m\u001b[0m\u001b[0m\n\u001b[0;32m      8\u001b[0m     \u001b[1;32mdef\u001b[0m \u001b[0mdes_car\u001b[0m\u001b[1;33m(\u001b[0m\u001b[0mself\u001b[0m\u001b[1;33m)\u001b[0m\u001b[1;33m:\u001b[0m\u001b[1;33m\u001b[0m\u001b[1;33m\u001b[0m\u001b[0m\n\u001b[1;32m----> 9\u001b[1;33m         \u001b[0mprint\u001b[0m\u001b[1;33m(\u001b[0m\u001b[0mself\u001b[0m\u001b[1;33m.\u001b[0m\u001b[0mbrand_name\u001b[0m\u001b[1;33m,\u001b[0m\u001b[0mself\u001b[0m\u001b[1;33m.\u001b[0m\u001b[0mfuel_type\u001b[0m\u001b[1;33m,\u001b[0m\u001b[0mself\u001b[0m\u001b[1;33m.\u001b[0m\u001b[0mbody_type\u001b[0m\u001b[1;33m)\u001b[0m\u001b[1;33m\u001b[0m\u001b[1;33m\u001b[0m\u001b[0m\n\u001b[0m",
      "\u001b[1;31mAttributeError\u001b[0m: 'car' object has no attribute 'brand_name'"
     ]
    }
   ],
   "source": [
    "innova.des_car()"
   ]
  },
  {
   "cell_type": "code",
   "execution_count": 11,
   "id": "aa4ae00b",
   "metadata": {},
   "outputs": [],
   "source": [
    "class car:\n",
    "    def __init__(self,brand_name,fuel_type,body_type):\n",
    "        \n",
    "        self.a = brand_name\n",
    "        self.b = fuel_type\n",
    "        self.c = body_type\n",
    "        \n",
    "    def des_car(self):\n",
    "        print(\"raja\")"
   ]
  },
  {
   "cell_type": "code",
   "execution_count": 12,
   "id": "73c59a43",
   "metadata": {},
   "outputs": [],
   "source": [
    "innova = car(\"toyotta\",\"petrol\",\"SUV\")\n",
    "nexon = car(\"tata\",\"diesel\",\"min_suv\")\n",
    "fortuner = car(\"toyota\",\"petrol\",\"suv\")"
   ]
  },
  {
   "cell_type": "code",
   "execution_count": 13,
   "id": "cdb594da",
   "metadata": {},
   "outputs": [
    {
     "data": {
      "text/plain": [
       "'SUV'"
      ]
     },
     "execution_count": 13,
     "metadata": {},
     "output_type": "execute_result"
    }
   ],
   "source": [
    "innova.c"
   ]
  },
  {
   "cell_type": "code",
   "execution_count": 14,
   "id": "1ff89296",
   "metadata": {},
   "outputs": [
    {
     "name": "stdout",
     "output_type": "stream",
     "text": [
      "raja\n"
     ]
    }
   ],
   "source": [
    "innova.des_car()"
   ]
  },
  {
   "cell_type": "code",
   "execution_count": 1,
   "id": "b5816bce",
   "metadata": {},
   "outputs": [],
   "source": [
    "#EX 1\n",
    "class list_parcer():\n",
    "    \n",
    "    def parcer(self,a):\n",
    "        if type(a) == list:\n",
    "            for i in a:\n",
    "                print(i)"
   ]
  },
  {
   "cell_type": "code",
   "execution_count": 2,
   "id": "d767ea91",
   "metadata": {},
   "outputs": [
    {
     "name": "stdout",
     "output_type": "stream",
     "text": [
      "1\n",
      "2\n",
      "3\n"
     ]
    }
   ],
   "source": [
    "c = list_parcer()\n",
    "c.parcer([1,2,3])"
   ]
  },
  {
   "cell_type": "code",
   "execution_count": 3,
   "id": "ab83ad49",
   "metadata": {},
   "outputs": [],
   "source": [
    "#EX 2\n",
    "class list_parcer():\n",
    "    \n",
    "    def parcer(self,a):\n",
    "        if type(a) == list:\n",
    "            for i in a:\n",
    "                print(i)\n",
    "                \n",
    "    def reverse_list(self,z):\n",
    "        if type(z) == list:\n",
    "            return z[::-1]"
   ]
  },
  {
   "cell_type": "code",
   "execution_count": 6,
   "id": "6fafdd51",
   "metadata": {},
   "outputs": [
    {
     "name": "stdout",
     "output_type": "stream",
     "text": [
      "1\n",
      "2\n",
      "3\n"
     ]
    },
    {
     "data": {
      "text/plain": [
       "[3, 2, 1]"
      ]
     },
     "execution_count": 6,
     "metadata": {},
     "output_type": "execute_result"
    }
   ],
   "source": [
    "c = list_parcer()\n",
    "c.parcer([1,2,3])\n",
    "c.reverse_list([1,2,3])"
   ]
  },
  {
   "cell_type": "code",
   "execution_count": 9,
   "id": "2a101789",
   "metadata": {},
   "outputs": [],
   "source": [
    "#EX 3\n",
    "class list_parcer():\n",
    "    def __init__(self,l):\n",
    "        self.l = l\n",
    "    \n",
    "    def parcer(self):\n",
    "        if type(self.l) == list:\n",
    "            for i in self.l:\n",
    "                print(i)\n",
    "                \n",
    "    def reverse_list(self):\n",
    "        if type(self.l) == list:\n",
    "            return self.l[::-1]"
   ]
  },
  {
   "cell_type": "code",
   "execution_count": 11,
   "id": "ce4b8d61",
   "metadata": {},
   "outputs": [
    {
     "name": "stdout",
     "output_type": "stream",
     "text": [
      "1\n",
      "2\n",
      "3\n"
     ]
    },
    {
     "data": {
      "text/plain": [
       "[3, 2, 1]"
      ]
     },
     "execution_count": 11,
     "metadata": {},
     "output_type": "execute_result"
    }
   ],
   "source": [
    "c = list_parcer([1,2,3])\n",
    "c.parcer()\n",
    "c.reverse_list()"
   ]
  },
  {
   "cell_type": "code",
   "execution_count": 18,
   "id": "bbc52083",
   "metadata": {},
   "outputs": [],
   "source": [
    "#EX 3\n",
    "class list_parcer():\n",
    "    def __init__(self,l):\n",
    "        self.l = l\n",
    "    \n",
    "    def parcer(self):\n",
    "        if type(self.l) == list:\n",
    "            for i in self.l:\n",
    "                print(i)\n",
    "                \n",
    "    def reverse_list(self):\n",
    "        if type(self.l) == list:\n",
    "            return self.l[::-1]\n",
    "        \n",
    "    def error(self):\n",
    "        print(\"if input not given list, show error of not parsing list\")i"
   ]
  },
  {
   "cell_type": "code",
   "execution_count": 19,
   "id": "d6caf834",
   "metadata": {},
   "outputs": [
    {
     "name": "stdout",
     "output_type": "stream",
     "text": [
      "if input not given list, show error of not parsing list\n"
     ]
    }
   ],
   "source": [
    "c = list_parcer((1,2,3))\n",
    "c.parcer()\n",
    "c.reverse_list()\n",
    "c.error()"
   ]
  },
  {
   "cell_type": "code",
   "execution_count": 32,
   "id": "2da84d0d",
   "metadata": {},
   "outputs": [],
   "source": [
    "class dict_parcer():\n",
    "    def __init__(self,d):\n",
    "        self.d = d\n",
    "        \n",
    "    def getkeys(self):\n",
    "        if type(self.d) == dict:\n",
    "            return list(self.d.keys())\n",
    "        \n",
    "    def getvalues(self):\n",
    "        if type(self.d) == dict:\n",
    "            return list(self.d.values())\n",
    "    \n",
    "    def raise_exception(self):\n",
    "        if type(self.d) != dict:\n",
    "            return Exception(self.d,\"not a dict\")\n",
    "        \n",
    "    def userinput(self):\n",
    "        self.a = eval(input())\n",
    "        print(self.getkeys)\n",
    "        print(self.getvalues)"
   ]
  },
  {
   "cell_type": "code",
   "execution_count": 33,
   "id": "7ca0609b",
   "metadata": {},
   "outputs": [
    {
     "data": {
      "text/plain": [
       "['k1', 'k2']"
      ]
     },
     "execution_count": 33,
     "metadata": {},
     "output_type": "execute_result"
    }
   ],
   "source": [
    "d = dict_parcer({\"k1\":\"raja\" , \"k2\":\"yoga\"})\n",
    "d.getkeys()"
   ]
  },
  {
   "cell_type": "code",
   "execution_count": 34,
   "id": "e8208893",
   "metadata": {},
   "outputs": [
    {
     "data": {
      "text/plain": [
       "['raja', 'yoga']"
      ]
     },
     "execution_count": 34,
     "metadata": {},
     "output_type": "execute_result"
    }
   ],
   "source": [
    "d.getvalues()"
   ]
  },
  {
   "cell_type": "code",
   "execution_count": 35,
   "id": "769fd7df",
   "metadata": {},
   "outputs": [],
   "source": [
    "d.raise_exception()"
   ]
  },
  {
   "cell_type": "code",
   "execution_count": 36,
   "id": "4842a116",
   "metadata": {},
   "outputs": [
    {
     "name": "stdout",
     "output_type": "stream",
     "text": [
      "{\"k\" : \"raja\"}\n",
      "<bound method dict_parcer.getkeys of <__main__.dict_parcer object at 0x0000019F6B212F70>>\n",
      "<bound method dict_parcer.getvalues of <__main__.dict_parcer object at 0x0000019F6B212F70>>\n"
     ]
    }
   ],
   "source": [
    "d.userinput()"
   ]
  },
  {
   "cell_type": "code",
   "execution_count": 1,
   "id": "ef4a94be",
   "metadata": {},
   "outputs": [],
   "source": [
    "#creating a module & calling class (to show reusability of code)\n",
    "\n",
    "f = open(\"google46.py\" , \"w\")"
   ]
  },
  {
   "cell_type": "code",
   "execution_count": 2,
   "id": "58da4ac2",
   "metadata": {},
   "outputs": [
    {
     "name": "stdout",
     "output_type": "stream",
     "text": [
      " Volume in drive C has no label.\n",
      " Volume Serial Number is 7A9F-BBE3\n",
      "\n",
      " Directory of C:\\Users\\User\n",
      "\n",
      "06/09/2022  05:10 PM    <DIR>          .\n",
      "06/09/2022  05:10 PM    <DIR>          ..\n",
      "05/30/2022  11:12 AM    <DIR>          .conda\n",
      "06/09/2022  04:53 PM    <DIR>          .ipynb_checkpoints\n",
      "03/18/2022  10:30 AM    <DIR>          .ipython\n",
      "04/02/2022  08:16 AM    <DIR>          .jupyter\n",
      "06/09/2022  05:04 PM    <DIR>          __pycache__\n",
      "03/05/2022  05:21 AM    <DIR>          3D Objects\n",
      "03/06/2022  04:00 PM    <DIR>          Anaconda3\n",
      "03/05/2022  05:21 AM    <DIR>          Contacts\n",
      "05/31/2022  07:00 PM    <DIR>          Desktop\n",
      "05/08/2022  06:17 PM    <DIR>          Documents\n",
      "05/31/2022  07:00 PM    <DIR>          Downloads\n",
      "04/19/2022  03:29 PM             2,426 Examples.ipynb\n",
      "05/25/2022  07:29 PM            32,271 Exception handling 1.ipynb\n",
      "03/05/2022  05:21 AM    <DIR>          Favorites\n",
      "05/06/2022  09:10 PM            26,051 Function 2.ipynb\n",
      "04/23/2022  06:18 PM            14,277 Function.ipynb\n",
      "05/22/2022  09:09 PM                 0 google\n",
      "05/08/2022  07:28 PM               327 google.txt\n",
      "06/09/2022  05:04 PM               310 Google1.py\n",
      "06/09/2022  05:10 PM                 0 google46.py\n",
      "05/09/2022  11:21 AM            46,135 Iterator generator file system.ipynb\n",
      "03/05/2022  05:21 AM    <DIR>          Links\n",
      "05/30/2022  06:11 PM             3,965 Logging.ipynb\n",
      "05/30/2022  12:19 PM            16,388 Module Discussion.ipynb\n",
      "03/05/2022  05:21 AM    <DIR>          Music\n",
      "05/30/2022  07:48 AM               226 my_module.py\n",
      "05/29/2022  09:21 AM    <DIR>          Notepad++\n",
      "06/09/2022  05:09 PM            13,948 Object Oriented Programm (OOPS).ipynb\n",
      "06/09/2022  04:44 PM    <DIR>          OneDrive\n",
      "03/05/2022  05:23 AM    <DIR>          Pictures\n",
      "04/05/2022  06:19 PM             4,240 Python Basics.ipynb\n",
      "05/03/2022  07:02 PM            13,015 Python Program Discussion 2.ipynb\n",
      "04/19/2022  03:17 PM             5,334 Python Program Discussion 3.ipynb\n",
      "04/15/2022  07:47 PM            11,983 Python Program Discussion.ipynb\n",
      "03/05/2022  05:21 AM    <DIR>          Saved Games\n",
      "03/05/2022  05:23 AM    <DIR>          Searches\n",
      "04/15/2022  05:12 AM            31,508 String,List & Indexing.ipynb\n",
      "05/31/2022  04:21 PM             2,181 Task from Kumaran.ipynb\n",
      "05/08/2022  06:18 PM                37 test1.txt\n",
      "05/08/2022  05:56 PM                49 test2.txt\n",
      "05/23/2022  07:16 PM               387 test22.log\n",
      "05/19/2022  04:56 PM                22 test3.txt\n",
      "05/23/2022  07:23 PM               314 test33.log\n",
      "05/19/2022  05:00 PM                 0 test43.txt\n",
      "05/30/2022  06:09 PM             3,849 test44.log\n",
      "05/29/2022  09:56 AM                31 test46.py\n",
      "05/29/2022  11:53 AM               159 test77.py\n",
      "04/05/2022  06:19 PM            30,005 TUPLE , SET,DICT.ipynb\n",
      "03/20/2022  10:29 AM               742 Untitled.ipynb\n",
      "04/17/2022  09:49 AM             1,780 Untitled1.ipynb\n",
      "05/14/2022  06:36 AM               588 Untitled2.ipynb\n",
      "05/29/2022  10:09 AM             1,068 Untitled3.ipynb\n",
      "06/09/2022  05:07 PM             6,064 Untitled4.ipynb\n",
      "03/23/2022  08:14 PM    <DIR>          Videos\n",
      "              34 File(s)        269,680 bytes\n",
      "              22 Dir(s)  51,325,251,584 bytes free\n"
     ]
    }
   ],
   "source": [
    "ls"
   ]
  },
  {
   "cell_type": "code",
   "execution_count": 4,
   "id": "abc4e7b8",
   "metadata": {},
   "outputs": [],
   "source": [
    "import google46"
   ]
  },
  {
   "cell_type": "code",
   "execution_count": 5,
   "id": "9a1df216",
   "metadata": {},
   "outputs": [],
   "source": [
    "l = google46.list_parcer([1,2,3])"
   ]
  },
  {
   "cell_type": "code",
   "execution_count": 6,
   "id": "3644e572",
   "metadata": {},
   "outputs": [
    {
     "data": {
      "text/plain": [
       "[3, 2, 1]"
      ]
     },
     "execution_count": 6,
     "metadata": {},
     "output_type": "execute_result"
    }
   ],
   "source": [
    "l.reverse_list()"
   ]
  },
  {
   "cell_type": "code",
   "execution_count": 7,
   "id": "84c0236a",
   "metadata": {},
   "outputs": [],
   "source": [
    "from google46 import list_parcer"
   ]
  },
  {
   "cell_type": "code",
   "execution_count": 9,
   "id": "c28e7457",
   "metadata": {},
   "outputs": [],
   "source": [
    "l = google46.list_parcer([1,2,3])"
   ]
  },
  {
   "cell_type": "code",
   "execution_count": 10,
   "id": "f393c303",
   "metadata": {},
   "outputs": [
    {
     "data": {
      "text/plain": [
       "[3, 2, 1]"
      ]
     },
     "execution_count": 10,
     "metadata": {},
     "output_type": "execute_result"
    }
   ],
   "source": [
    "l.reverse_list()"
   ]
  },
  {
   "cell_type": "code",
   "execution_count": null,
   "id": "22206648",
   "metadata": {},
   "outputs": [],
   "source": []
  }
 ],
 "metadata": {
  "kernelspec": {
   "display_name": "Python 3 (ipykernel)",
   "language": "python",
   "name": "python3"
  },
  "language_info": {
   "codemirror_mode": {
    "name": "ipython",
    "version": 3
   },
   "file_extension": ".py",
   "mimetype": "text/x-python",
   "name": "python",
   "nbconvert_exporter": "python",
   "pygments_lexer": "ipython3",
   "version": "3.9.7"
  }
 },
 "nbformat": 4,
 "nbformat_minor": 5
}
