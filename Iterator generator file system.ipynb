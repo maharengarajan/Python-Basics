{
 "cells": [
  {
   "cell_type": "code",
   "execution_count": 1,
   "id": "3cd9764b",
   "metadata": {},
   "outputs": [
    {
     "ename": "TypeError",
     "evalue": "'list' object is not an iterator",
     "output_type": "error",
     "traceback": [
      "\u001b[1;31m---------------------------------------------------------------------------\u001b[0m",
      "\u001b[1;31mTypeError\u001b[0m                                 Traceback (most recent call last)",
      "\u001b[1;32m~\\AppData\\Local\\Temp/ipykernel_5368/2427351599.py\u001b[0m in \u001b[0;36m<module>\u001b[1;34m\u001b[0m\n\u001b[0;32m      1\u001b[0m \u001b[0ml\u001b[0m \u001b[1;33m=\u001b[0m \u001b[1;33m[\u001b[0m\u001b[1;36m1\u001b[0m\u001b[1;33m,\u001b[0m\u001b[1;36m2\u001b[0m\u001b[1;33m,\u001b[0m\u001b[1;36m3\u001b[0m\u001b[1;33m,\u001b[0m\u001b[1;36m4\u001b[0m\u001b[1;33m]\u001b[0m\u001b[1;33m\u001b[0m\u001b[1;33m\u001b[0m\u001b[0m\n\u001b[1;32m----> 2\u001b[1;33m \u001b[0mnext\u001b[0m\u001b[1;33m(\u001b[0m\u001b[0ml\u001b[0m\u001b[1;33m)\u001b[0m\u001b[1;33m\u001b[0m\u001b[1;33m\u001b[0m\u001b[0m\n\u001b[0m",
      "\u001b[1;31mTypeError\u001b[0m: 'list' object is not an iterator"
     ]
    }
   ],
   "source": [
    "#ITERATOR \n",
    "l = [1,2,3,4]     #by defaulf list is iterable , not iterator\n",
    "next(l)"
   ]
  },
  {
   "cell_type": "code",
   "execution_count": 2,
   "id": "dda297cf",
   "metadata": {},
   "outputs": [
    {
     "data": {
      "text/plain": [
       "1"
      ]
     },
     "execution_count": 2,
     "metadata": {},
     "output_type": "execute_result"
    }
   ],
   "source": [
    "l = iter(l)     #in this way for loop is working internally\n",
    "next(l)"
   ]
  },
  {
   "cell_type": "code",
   "execution_count": 3,
   "id": "f2c232dd",
   "metadata": {},
   "outputs": [
    {
     "data": {
      "text/plain": [
       "2"
      ]
     },
     "execution_count": 3,
     "metadata": {},
     "output_type": "execute_result"
    }
   ],
   "source": [
    "next(l)"
   ]
  },
  {
   "cell_type": "code",
   "execution_count": 4,
   "id": "d1751fbb",
   "metadata": {},
   "outputs": [
    {
     "data": {
      "text/plain": [
       "3"
      ]
     },
     "execution_count": 4,
     "metadata": {},
     "output_type": "execute_result"
    }
   ],
   "source": [
    "next(l)"
   ]
  },
  {
   "cell_type": "code",
   "execution_count": 5,
   "id": "85b137a4",
   "metadata": {},
   "outputs": [
    {
     "data": {
      "text/plain": [
       "4"
      ]
     },
     "execution_count": 5,
     "metadata": {},
     "output_type": "execute_result"
    }
   ],
   "source": [
    "next(l)"
   ]
  },
  {
   "cell_type": "code",
   "execution_count": 6,
   "id": "0ae862ea",
   "metadata": {},
   "outputs": [
    {
     "ename": "StopIteration",
     "evalue": "",
     "output_type": "error",
     "traceback": [
      "\u001b[1;31m---------------------------------------------------------------------------\u001b[0m",
      "\u001b[1;31mStopIteration\u001b[0m                             Traceback (most recent call last)",
      "\u001b[1;32m~\\AppData\\Local\\Temp/ipykernel_5368/2016234150.py\u001b[0m in \u001b[0;36m<module>\u001b[1;34m\u001b[0m\n\u001b[1;32m----> 1\u001b[1;33m \u001b[0mnext\u001b[0m\u001b[1;33m(\u001b[0m\u001b[0ml\u001b[0m\u001b[1;33m)\u001b[0m\u001b[1;33m\u001b[0m\u001b[1;33m\u001b[0m\u001b[0m\n\u001b[0m",
      "\u001b[1;31mStopIteration\u001b[0m: "
     ]
    }
   ],
   "source": [
    "next(l)"
   ]
  },
  {
   "cell_type": "code",
   "execution_count": 7,
   "id": "0eaf2fa6",
   "metadata": {},
   "outputs": [
    {
     "ename": "TypeError",
     "evalue": "'int' object is not an iterator",
     "output_type": "error",
     "traceback": [
      "\u001b[1;31m---------------------------------------------------------------------------\u001b[0m",
      "\u001b[1;31mTypeError\u001b[0m                                 Traceback (most recent call last)",
      "\u001b[1;32m~\\AppData\\Local\\Temp/ipykernel_5368/283391404.py\u001b[0m in \u001b[0;36m<module>\u001b[1;34m\u001b[0m\n\u001b[0;32m      1\u001b[0m \u001b[0ma\u001b[0m \u001b[1;33m=\u001b[0m \u001b[1;36m56\u001b[0m\u001b[1;33m\u001b[0m\u001b[1;33m\u001b[0m\u001b[0m\n\u001b[1;32m----> 2\u001b[1;33m \u001b[0mnext\u001b[0m\u001b[1;33m(\u001b[0m\u001b[0ma\u001b[0m\u001b[1;33m)\u001b[0m\u001b[1;33m\u001b[0m\u001b[1;33m\u001b[0m\u001b[0m\n\u001b[0m",
      "\u001b[1;31mTypeError\u001b[0m: 'int' object is not an iterator"
     ]
    }
   ],
   "source": [
    "a = 56\n",
    "next(a)"
   ]
  },
  {
   "cell_type": "code",
   "execution_count": 8,
   "id": "b83e5069",
   "metadata": {},
   "outputs": [
    {
     "ename": "TypeError",
     "evalue": "'int' object is not iterable",
     "output_type": "error",
     "traceback": [
      "\u001b[1;31m---------------------------------------------------------------------------\u001b[0m",
      "\u001b[1;31mTypeError\u001b[0m                                 Traceback (most recent call last)",
      "\u001b[1;32m~\\AppData\\Local\\Temp/ipykernel_5368/767013278.py\u001b[0m in \u001b[0;36m<module>\u001b[1;34m\u001b[0m\n\u001b[1;32m----> 1\u001b[1;33m \u001b[0ma\u001b[0m \u001b[1;33m=\u001b[0m \u001b[0miter\u001b[0m\u001b[1;33m(\u001b[0m\u001b[0ma\u001b[0m\u001b[1;33m)\u001b[0m\u001b[1;33m\u001b[0m\u001b[1;33m\u001b[0m\u001b[0m\n\u001b[0m",
      "\u001b[1;31mTypeError\u001b[0m: 'int' object is not iterable"
     ]
    }
   ],
   "source": [
    "a = iter(a)"
   ]
  },
  {
   "cell_type": "code",
   "execution_count": 9,
   "id": "254f4fd2",
   "metadata": {},
   "outputs": [],
   "source": [
    "#difference between iterator and iterable\n",
    "#Please explain how for loop working internallu\n",
    "#string is what? string is iterable we can convert into iterator"
   ]
  },
  {
   "cell_type": "code",
   "execution_count": 10,
   "id": "39671655",
   "metadata": {},
   "outputs": [
    {
     "ename": "TypeError",
     "evalue": "'tuple' object is not an iterator",
     "output_type": "error",
     "traceback": [
      "\u001b[1;31m---------------------------------------------------------------------------\u001b[0m",
      "\u001b[1;31mTypeError\u001b[0m                                 Traceback (most recent call last)",
      "\u001b[1;32m~\\AppData\\Local\\Temp/ipykernel_5368/1503550040.py\u001b[0m in \u001b[0;36m<module>\u001b[1;34m\u001b[0m\n\u001b[0;32m      1\u001b[0m \u001b[0mt\u001b[0m \u001b[1;33m=\u001b[0m \u001b[1;33m(\u001b[0m\u001b[1;36m1\u001b[0m\u001b[1;33m,\u001b[0m\u001b[1;36m2\u001b[0m\u001b[1;33m,\u001b[0m\u001b[1;36m3\u001b[0m\u001b[1;33m,\u001b[0m\u001b[1;36m4\u001b[0m\u001b[1;33m)\u001b[0m\u001b[1;33m\u001b[0m\u001b[1;33m\u001b[0m\u001b[0m\n\u001b[1;32m----> 2\u001b[1;33m \u001b[0mnext\u001b[0m\u001b[1;33m(\u001b[0m\u001b[0mt\u001b[0m\u001b[1;33m)\u001b[0m\u001b[1;33m\u001b[0m\u001b[1;33m\u001b[0m\u001b[0m\n\u001b[0m",
      "\u001b[1;31mTypeError\u001b[0m: 'tuple' object is not an iterator"
     ]
    }
   ],
   "source": [
    "t = (1,2,3,4)    #by default tuple is a iterable \n",
    "next(t)"
   ]
  },
  {
   "cell_type": "code",
   "execution_count": 11,
   "id": "a36ef8de",
   "metadata": {},
   "outputs": [],
   "source": [
    "a = iter(t)"
   ]
  },
  {
   "cell_type": "code",
   "execution_count": 13,
   "id": "3889e577",
   "metadata": {},
   "outputs": [
    {
     "data": {
      "text/plain": [
       "1"
      ]
     },
     "execution_count": 13,
     "metadata": {},
     "output_type": "execute_result"
    }
   ],
   "source": [
    "next(a)"
   ]
  },
  {
   "cell_type": "code",
   "execution_count": 15,
   "id": "002be44f",
   "metadata": {},
   "outputs": [
    {
     "data": {
      "text/plain": [
       "2"
      ]
     },
     "execution_count": 15,
     "metadata": {},
     "output_type": "execute_result"
    }
   ],
   "source": [
    "next(a)"
   ]
  },
  {
   "cell_type": "code",
   "execution_count": 16,
   "id": "9a990ff9",
   "metadata": {},
   "outputs": [
    {
     "ename": "TypeError",
     "evalue": "'range' object is not an iterator",
     "output_type": "error",
     "traceback": [
      "\u001b[1;31m---------------------------------------------------------------------------\u001b[0m",
      "\u001b[1;31mTypeError\u001b[0m                                 Traceback (most recent call last)",
      "\u001b[1;32m~\\AppData\\Local\\Temp/ipykernel_5368/2562785477.py\u001b[0m in \u001b[0;36m<module>\u001b[1;34m\u001b[0m\n\u001b[0;32m      1\u001b[0m \u001b[0mr\u001b[0m \u001b[1;33m=\u001b[0m \u001b[0mrange\u001b[0m\u001b[1;33m(\u001b[0m\u001b[1;36m6\u001b[0m\u001b[1;33m)\u001b[0m\u001b[1;33m\u001b[0m\u001b[1;33m\u001b[0m\u001b[0m\n\u001b[1;32m----> 2\u001b[1;33m \u001b[0mnext\u001b[0m\u001b[1;33m(\u001b[0m\u001b[0mr\u001b[0m\u001b[1;33m)\u001b[0m\u001b[1;33m\u001b[0m\u001b[1;33m\u001b[0m\u001b[0m\n\u001b[0m",
      "\u001b[1;31mTypeError\u001b[0m: 'range' object is not an iterator"
     ]
    }
   ],
   "source": [
    "r = range(6)\n",
    "next(r)"
   ]
  },
  {
   "cell_type": "code",
   "execution_count": 17,
   "id": "20dd306b",
   "metadata": {},
   "outputs": [],
   "source": [
    "r = iter(r)"
   ]
  },
  {
   "cell_type": "code",
   "execution_count": 18,
   "id": "b4b00d6f",
   "metadata": {},
   "outputs": [
    {
     "data": {
      "text/plain": [
       "0"
      ]
     },
     "execution_count": 18,
     "metadata": {},
     "output_type": "execute_result"
    }
   ],
   "source": [
    "next(r)"
   ]
  },
  {
   "cell_type": "code",
   "execution_count": 19,
   "id": "42b6f4cb",
   "metadata": {},
   "outputs": [
    {
     "data": {
      "text/plain": [
       "1"
      ]
     },
     "execution_count": 19,
     "metadata": {},
     "output_type": "execute_result"
    }
   ],
   "source": [
    "next(r)"
   ]
  },
  {
   "cell_type": "code",
   "execution_count": 20,
   "id": "3e703833",
   "metadata": {},
   "outputs": [
    {
     "data": {
      "text/plain": [
       "2"
      ]
     },
     "execution_count": 20,
     "metadata": {},
     "output_type": "execute_result"
    }
   ],
   "source": [
    "next(r)"
   ]
  },
  {
   "cell_type": "code",
   "execution_count": 31,
   "id": "3e372f84",
   "metadata": {},
   "outputs": [],
   "source": [
    "#GENERATOR"
   ]
  },
  {
   "cell_type": "code",
   "execution_count": 36,
   "id": "0ae1905c",
   "metadata": {},
   "outputs": [],
   "source": [
    "def gencube(n):\n",
    "    l = []\n",
    "    for i in range(n):\n",
    "        l.append(i**3)\n",
    "    return l"
   ]
  },
  {
   "cell_type": "code",
   "execution_count": 37,
   "id": "97a8bc83",
   "metadata": {},
   "outputs": [
    {
     "data": {
      "text/plain": [
       "[0, 1, 8, 27, 64, 125]"
      ]
     },
     "execution_count": 37,
     "metadata": {},
     "output_type": "execute_result"
    }
   ],
   "source": [
    "gencube(6)"
   ]
  },
  {
   "cell_type": "code",
   "execution_count": 38,
   "id": "7af5faae",
   "metadata": {},
   "outputs": [],
   "source": [
    "def feb(n):\n",
    "    a = 1\n",
    "    b = 1\n",
    "    for i in range(n):\n",
    "        yield a,i\n",
    "        a,b = b,a+b"
   ]
  },
  {
   "cell_type": "code",
   "execution_count": 39,
   "id": "eda05997",
   "metadata": {},
   "outputs": [
    {
     "name": "stdout",
     "output_type": "stream",
     "text": [
      "(1, 0)\n",
      "(1, 1)\n",
      "(2, 2)\n",
      "(3, 3)\n",
      "(5, 4)\n",
      "(8, 5)\n",
      "(13, 6)\n",
      "(21, 7)\n",
      "(34, 8)\n",
      "(55, 9)\n"
     ]
    }
   ],
   "source": [
    "for i in feb(10):\n",
    "    print(i)"
   ]
  },
  {
   "cell_type": "code",
   "execution_count": 45,
   "id": "747e093c",
   "metadata": {},
   "outputs": [
    {
     "data": {
      "text/plain": [
       "[1, 1, 2, 3, 5, 8, 13, 21, 34, 55]"
      ]
     },
     "execution_count": 45,
     "metadata": {},
     "output_type": "execute_result"
    }
   ],
   "source": [
    "def feb2(n):\n",
    "    a = 1\n",
    "    b = 1\n",
    "    l = []\n",
    "    for i in range(n):\n",
    "        l.append(a)\n",
    "        a,b=b,a+b\n",
    "    return(l)\n",
    "feb2(10)\n",
    "        "
   ]
  },
  {
   "cell_type": "code",
   "execution_count": 4,
   "id": "4ea447f6",
   "metadata": {},
   "outputs": [],
   "source": [
    "f = open(\"test1.txt\", \"w\")"
   ]
  },
  {
   "cell_type": "code",
   "execution_count": 5,
   "id": "b3f16509",
   "metadata": {},
   "outputs": [
    {
     "name": "stdout",
     "output_type": "stream",
     "text": [
      " Volume in drive C has no label.\n",
      " Volume Serial Number is 7A9F-BBE3\n",
      "\n",
      " Directory of C:\\Users\\User\n",
      "\n",
      "05/08/2022  05:46 PM    <DIR>          .\n",
      "05/08/2022  05:46 PM    <DIR>          ..\n",
      "05/08/2022  10:38 AM    <DIR>          .ipynb_checkpoints\n",
      "03/18/2022  10:30 AM    <DIR>          .ipython\n",
      "04/02/2022  08:16 AM    <DIR>          .jupyter\n",
      "03/05/2022  05:21 AM    <DIR>          3D Objects\n",
      "03/06/2022  04:00 PM    <DIR>          Anaconda3\n",
      "03/05/2022  05:21 AM    <DIR>          Contacts\n",
      "04/09/2022  12:45 PM    <DIR>          Desktop\n",
      "03/06/2022  04:00 PM    <DIR>          Documents\n",
      "04/18/2022  12:38 PM    <DIR>          Downloads\n",
      "04/19/2022  03:29 PM             2,426 Examples.ipynb\n",
      "03/05/2022  05:21 AM    <DIR>          Favorites\n",
      "05/06/2022  09:10 PM            26,051 Function 2.ipynb\n",
      "04/23/2022  06:18 PM            14,277 Function.ipynb\n",
      "05/08/2022  05:46 PM            15,769 Iterator generator file system.ipynb\n",
      "03/05/2022  05:21 AM    <DIR>          Links\n",
      "03/05/2022  05:21 AM    <DIR>          Music\n",
      "05/08/2022  05:28 PM    <DIR>          OneDrive\n",
      "03/05/2022  05:23 AM    <DIR>          Pictures\n",
      "04/05/2022  06:19 PM             4,240 Python Basics.ipynb\n",
      "05/03/2022  07:02 PM            13,015 Python Program Discussion 2.ipynb\n",
      "04/19/2022  03:17 PM             5,334 Python Program Discussion 3.ipynb\n",
      "04/15/2022  07:47 PM            11,983 Python Program Discussion.ipynb\n",
      "03/05/2022  05:21 AM    <DIR>          Saved Games\n",
      "03/05/2022  05:23 AM    <DIR>          Searches\n",
      "04/15/2022  05:12 AM            31,508 String,List & Indexing.ipynb\n",
      "05/08/2022  05:46 PM                 0 test1.txt\n",
      "04/05/2022  06:19 PM            30,005 TUPLE , SET,DICT.ipynb\n",
      "03/20/2022  10:29 AM               742 Untitled.ipynb\n",
      "04/17/2022  09:49 AM             1,780 Untitled1.ipynb\n",
      "03/23/2022  08:14 PM    <DIR>          Videos\n",
      "              13 File(s)        157,130 bytes\n",
      "              19 Dir(s)  56,405,016,576 bytes free\n"
     ]
    }
   ],
   "source": [
    "#files\n",
    "%ls"
   ]
  },
  {
   "cell_type": "code",
   "execution_count": 2,
   "id": "c3f0f944",
   "metadata": {},
   "outputs": [
    {
     "data": {
      "text/plain": [
       "'C:\\\\Users\\\\User'"
      ]
     },
     "execution_count": 2,
     "metadata": {},
     "output_type": "execute_result"
    }
   ],
   "source": [
    "pwd()"
   ]
  },
  {
   "cell_type": "code",
   "execution_count": 6,
   "id": "5d03f78c",
   "metadata": {},
   "outputs": [],
   "source": [
    "f = open(\"test1.txt\" , \"w\")"
   ]
  },
  {
   "cell_type": "code",
   "execution_count": 7,
   "id": "fa26660d",
   "metadata": {},
   "outputs": [
    {
     "data": {
      "text/plain": [
       "23"
      ]
     },
     "execution_count": 7,
     "metadata": {},
     "output_type": "execute_result"
    }
   ],
   "source": [
    "f.write(\"my first file operation\")"
   ]
  },
  {
   "cell_type": "code",
   "execution_count": 8,
   "id": "e4900bfe",
   "metadata": {},
   "outputs": [],
   "source": [
    "f.close()"
   ]
  },
  {
   "cell_type": "code",
   "execution_count": 9,
   "id": "4c6ae369",
   "metadata": {},
   "outputs": [
    {
     "name": "stdout",
     "output_type": "stream",
     "text": [
      "Writing test2.txt\n"
     ]
    }
   ],
   "source": [
    "%%writefile test2.txt\n",
    "this is a data i would like to store in my file"
   ]
  },
  {
   "cell_type": "code",
   "execution_count": 10,
   "id": "739e2e1e",
   "metadata": {},
   "outputs": [
    {
     "name": "stdout",
     "output_type": "stream",
     "text": [
      " Volume in drive C has no label.\n",
      " Volume Serial Number is 7A9F-BBE3\n",
      "\n",
      " Directory of C:\\Users\\User\n",
      "\n",
      "05/08/2022  05:56 PM    <DIR>          .\n",
      "05/08/2022  05:56 PM    <DIR>          ..\n",
      "05/08/2022  10:38 AM    <DIR>          .ipynb_checkpoints\n",
      "03/18/2022  10:30 AM    <DIR>          .ipython\n",
      "04/02/2022  08:16 AM    <DIR>          .jupyter\n",
      "03/05/2022  05:21 AM    <DIR>          3D Objects\n",
      "03/06/2022  04:00 PM    <DIR>          Anaconda3\n",
      "03/05/2022  05:21 AM    <DIR>          Contacts\n",
      "04/09/2022  12:45 PM    <DIR>          Desktop\n",
      "03/06/2022  04:00 PM    <DIR>          Documents\n",
      "04/18/2022  12:38 PM    <DIR>          Downloads\n",
      "04/19/2022  03:29 PM             2,426 Examples.ipynb\n",
      "03/05/2022  05:21 AM    <DIR>          Favorites\n",
      "05/06/2022  09:10 PM            26,051 Function 2.ipynb\n",
      "04/23/2022  06:18 PM            14,277 Function.ipynb\n",
      "05/08/2022  05:56 PM            16,838 Iterator generator file system.ipynb\n",
      "03/05/2022  05:21 AM    <DIR>          Links\n",
      "03/05/2022  05:21 AM    <DIR>          Music\n",
      "05/08/2022  05:28 PM    <DIR>          OneDrive\n",
      "03/05/2022  05:23 AM    <DIR>          Pictures\n",
      "04/05/2022  06:19 PM             4,240 Python Basics.ipynb\n",
      "05/03/2022  07:02 PM            13,015 Python Program Discussion 2.ipynb\n",
      "04/19/2022  03:17 PM             5,334 Python Program Discussion 3.ipynb\n",
      "04/15/2022  07:47 PM            11,983 Python Program Discussion.ipynb\n",
      "03/05/2022  05:21 AM    <DIR>          Saved Games\n",
      "03/05/2022  05:23 AM    <DIR>          Searches\n",
      "04/15/2022  05:12 AM            31,508 String,List & Indexing.ipynb\n",
      "05/08/2022  05:53 PM                23 test1.txt\n",
      "05/08/2022  05:56 PM                49 test2.txt\n",
      "04/05/2022  06:19 PM            30,005 TUPLE , SET,DICT.ipynb\n",
      "03/20/2022  10:29 AM               742 Untitled.ipynb\n",
      "04/17/2022  09:49 AM             1,780 Untitled1.ipynb\n",
      "03/23/2022  08:14 PM    <DIR>          Videos\n",
      "              14 File(s)        158,271 bytes\n",
      "              19 Dir(s)  56,400,818,176 bytes free\n"
     ]
    }
   ],
   "source": [
    "%ls"
   ]
  },
  {
   "cell_type": "code",
   "execution_count": 11,
   "id": "49397a7d",
   "metadata": {},
   "outputs": [
    {
     "data": {
      "text/plain": [
       "'my first file operation'"
      ]
     },
     "execution_count": 11,
     "metadata": {},
     "output_type": "execute_result"
    }
   ],
   "source": [
    "f = open(\"test1.txt\")\n",
    "f.read()"
   ]
  },
  {
   "cell_type": "code",
   "execution_count": 12,
   "id": "ce303f8f",
   "metadata": {},
   "outputs": [
    {
     "ename": "TypeError",
     "evalue": "TextIOWrapper.write() takes exactly one argument (0 given)",
     "output_type": "error",
     "traceback": [
      "\u001b[1;31m---------------------------------------------------------------------------\u001b[0m",
      "\u001b[1;31mTypeError\u001b[0m                                 Traceback (most recent call last)",
      "\u001b[1;32m~\\AppData\\Local\\Temp/ipykernel_7460/3267976891.py\u001b[0m in \u001b[0;36m<module>\u001b[1;34m\u001b[0m\n\u001b[1;32m----> 1\u001b[1;33m \u001b[0mf\u001b[0m\u001b[1;33m.\u001b[0m\u001b[0mwrite\u001b[0m\u001b[1;33m(\u001b[0m\u001b[1;33m)\u001b[0m\u001b[1;33m\u001b[0m\u001b[1;33m\u001b[0m\u001b[0m\n\u001b[0m",
      "\u001b[1;31mTypeError\u001b[0m: TextIOWrapper.write() takes exactly one argument (0 given)"
     ]
    }
   ],
   "source": [
    "f.write()"
   ]
  },
  {
   "cell_type": "code",
   "execution_count": 13,
   "id": "dd437e1f",
   "metadata": {},
   "outputs": [
    {
     "data": {
      "text/plain": [
       "''"
      ]
     },
     "execution_count": 13,
     "metadata": {},
     "output_type": "execute_result"
    }
   ],
   "source": [
    "f.read()"
   ]
  },
  {
   "cell_type": "code",
   "execution_count": 14,
   "id": "26aa10fa",
   "metadata": {},
   "outputs": [
    {
     "data": {
      "text/plain": [
       "5"
      ]
     },
     "execution_count": 14,
     "metadata": {},
     "output_type": "execute_result"
    }
   ],
   "source": [
    "f.seek(5)"
   ]
  },
  {
   "cell_type": "code",
   "execution_count": 15,
   "id": "45a42afe",
   "metadata": {},
   "outputs": [
    {
     "data": {
      "text/plain": [
       "'rst file operation'"
      ]
     },
     "execution_count": 15,
     "metadata": {},
     "output_type": "execute_result"
    }
   ],
   "source": [
    "f.read()"
   ]
  },
  {
   "cell_type": "code",
   "execution_count": 16,
   "id": "96c016ab",
   "metadata": {},
   "outputs": [
    {
     "data": {
      "text/plain": [
       "0"
      ]
     },
     "execution_count": 16,
     "metadata": {},
     "output_type": "execute_result"
    }
   ],
   "source": [
    "f.seek(0)"
   ]
  },
  {
   "cell_type": "code",
   "execution_count": 17,
   "id": "fdedb47a",
   "metadata": {},
   "outputs": [
    {
     "data": {
      "text/plain": [
       "'my first file operation'"
      ]
     },
     "execution_count": 17,
     "metadata": {},
     "output_type": "execute_result"
    }
   ],
   "source": [
    "f.read()"
   ]
  },
  {
   "cell_type": "code",
   "execution_count": 18,
   "id": "3f45c233",
   "metadata": {},
   "outputs": [
    {
     "data": {
      "text/plain": [
       "23"
      ]
     },
     "execution_count": 18,
     "metadata": {},
     "output_type": "execute_result"
    }
   ],
   "source": [
    "f.tell()"
   ]
  },
  {
   "cell_type": "code",
   "execution_count": 19,
   "id": "5ef6557d",
   "metadata": {},
   "outputs": [
    {
     "data": {
      "text/plain": [
       "0"
      ]
     },
     "execution_count": 19,
     "metadata": {},
     "output_type": "execute_result"
    }
   ],
   "source": [
    "f.seek(0)"
   ]
  },
  {
   "cell_type": "code",
   "execution_count": 20,
   "id": "230a0044",
   "metadata": {},
   "outputs": [
    {
     "data": {
      "text/plain": [
       "0"
      ]
     },
     "execution_count": 20,
     "metadata": {},
     "output_type": "execute_result"
    }
   ],
   "source": [
    "f.tell()"
   ]
  },
  {
   "cell_type": "code",
   "execution_count": 21,
   "id": "54cecb72",
   "metadata": {},
   "outputs": [],
   "source": [
    "f.close()"
   ]
  },
  {
   "cell_type": "code",
   "execution_count": 22,
   "id": "7fbc02a2",
   "metadata": {},
   "outputs": [
    {
     "data": {
      "text/plain": [
       "'my first file operation'"
      ]
     },
     "execution_count": 22,
     "metadata": {},
     "output_type": "execute_result"
    }
   ],
   "source": [
    "f = open(\"test1.txt\" , \"r+\")\n",
    "f.read()"
   ]
  },
  {
   "cell_type": "code",
   "execution_count": 23,
   "id": "2686bdcc",
   "metadata": {},
   "outputs": [
    {
     "data": {
      "text/plain": [
       "''"
      ]
     },
     "execution_count": 23,
     "metadata": {},
     "output_type": "execute_result"
    }
   ],
   "source": [
    "f.readline()"
   ]
  },
  {
   "cell_type": "code",
   "execution_count": 24,
   "id": "b3bb0b28",
   "metadata": {},
   "outputs": [
    {
     "data": {
      "text/plain": [
       "0"
      ]
     },
     "execution_count": 24,
     "metadata": {},
     "output_type": "execute_result"
    }
   ],
   "source": [
    "f.seek(0)"
   ]
  },
  {
   "cell_type": "code",
   "execution_count": 25,
   "id": "ddf71135",
   "metadata": {},
   "outputs": [
    {
     "data": {
      "text/plain": [
       "0"
      ]
     },
     "execution_count": 25,
     "metadata": {},
     "output_type": "execute_result"
    }
   ],
   "source": [
    "f.tell()"
   ]
  },
  {
   "cell_type": "code",
   "execution_count": 26,
   "id": "26b72cb7",
   "metadata": {},
   "outputs": [
    {
     "data": {
      "text/plain": [
       "'my first file operation'"
      ]
     },
     "execution_count": 26,
     "metadata": {},
     "output_type": "execute_result"
    }
   ],
   "source": [
    "f.readline()"
   ]
  },
  {
   "cell_type": "code",
   "execution_count": 27,
   "id": "691d2508",
   "metadata": {},
   "outputs": [
    {
     "data": {
      "text/plain": [
       "'\\n'"
      ]
     },
     "execution_count": 27,
     "metadata": {},
     "output_type": "execute_result"
    }
   ],
   "source": [
    "f.readline()"
   ]
  },
  {
   "cell_type": "code",
   "execution_count": 28,
   "id": "781a0b41",
   "metadata": {},
   "outputs": [
    {
     "data": {
      "text/plain": [
       "'\\n'"
      ]
     },
     "execution_count": 28,
     "metadata": {},
     "output_type": "execute_result"
    }
   ],
   "source": [
    "f.readline()"
   ]
  },
  {
   "cell_type": "code",
   "execution_count": 29,
   "id": "e3ba7eef",
   "metadata": {},
   "outputs": [
    {
     "data": {
      "text/plain": [
       "'raja\\n'"
      ]
     },
     "execution_count": 29,
     "metadata": {},
     "output_type": "execute_result"
    }
   ],
   "source": [
    "f.readline()"
   ]
  },
  {
   "cell_type": "code",
   "execution_count": 30,
   "id": "600d7399",
   "metadata": {},
   "outputs": [
    {
     "data": {
      "text/plain": [
       "'yoga'"
      ]
     },
     "execution_count": 30,
     "metadata": {},
     "output_type": "execute_result"
    }
   ],
   "source": [
    "f.readline()"
   ]
  },
  {
   "cell_type": "code",
   "execution_count": 31,
   "id": "bdfc5236",
   "metadata": {},
   "outputs": [
    {
     "data": {
      "text/plain": [
       "314"
      ]
     },
     "execution_count": 31,
     "metadata": {},
     "output_type": "execute_result"
    }
   ],
   "source": [
    "f = open(\"google.txt\" , \"w\")\n",
    "f.write(\"\"\"Full name of ‘Sachin Tendulkar’ is Sachin Ramesh Tendulkar. He was born on 24 April 1973. His father, Ramesh Tendulkar, was a well-known Marathi novelist and his mother, Rajni, worked in the insurance industry. He married with Anjali Mehta, the paediatrician daughter of Gujarati industrialist Anand Mehta, in 1995\"\"\")"
   ]
  },
  {
   "cell_type": "code",
   "execution_count": 32,
   "id": "3a565ce7",
   "metadata": {},
   "outputs": [],
   "source": [
    "f.close()"
   ]
  },
  {
   "cell_type": "code",
   "execution_count": 33,
   "id": "f703df82",
   "metadata": {},
   "outputs": [
    {
     "ename": "ValueError",
     "evalue": "I/O operation on closed file.",
     "output_type": "error",
     "traceback": [
      "\u001b[1;31m---------------------------------------------------------------------------\u001b[0m",
      "\u001b[1;31mValueError\u001b[0m                                Traceback (most recent call last)",
      "\u001b[1;32m~\\AppData\\Local\\Temp/ipykernel_7460/3059900045.py\u001b[0m in \u001b[0;36m<module>\u001b[1;34m\u001b[0m\n\u001b[1;32m----> 1\u001b[1;33m \u001b[0mf\u001b[0m\u001b[1;33m.\u001b[0m\u001b[0mread\u001b[0m\u001b[1;33m(\u001b[0m\u001b[1;33m)\u001b[0m\u001b[1;33m\u001b[0m\u001b[1;33m\u001b[0m\u001b[0m\n\u001b[0m",
      "\u001b[1;31mValueError\u001b[0m: I/O operation on closed file."
     ]
    }
   ],
   "source": [
    "f.read()"
   ]
  },
  {
   "cell_type": "code",
   "execution_count": 34,
   "id": "d9f7d54e",
   "metadata": {},
   "outputs": [],
   "source": [
    "f = open(\"google.txt\" , \"r+\")"
   ]
  },
  {
   "cell_type": "code",
   "execution_count": 35,
   "id": "06cbcac6",
   "metadata": {},
   "outputs": [
    {
     "data": {
      "text/plain": [
       "'Full name of ‘Sachin Tendulkar’ is Sachin Ramesh Tendulkar. \\nHe was born on 24 April 1973. His father, Ramesh Tendulkar, was a well-known Marathi novelist and his mother, Rajni, worked in the insurance industry. \\nHe married with Anjali Mehta, the paediatrician daughter of Gujarati industrialist Anand Mehta, in 1995'"
      ]
     },
     "execution_count": 35,
     "metadata": {},
     "output_type": "execute_result"
    }
   ],
   "source": [
    "f.read()"
   ]
  },
  {
   "cell_type": "code",
   "execution_count": 38,
   "id": "5e35bc5a",
   "metadata": {},
   "outputs": [
    {
     "data": {
      "text/plain": [
       "0"
      ]
     },
     "execution_count": 38,
     "metadata": {},
     "output_type": "execute_result"
    }
   ],
   "source": [
    "f.seek(0)"
   ]
  },
  {
   "cell_type": "code",
   "execution_count": 39,
   "id": "0c5ae4a5",
   "metadata": {},
   "outputs": [
    {
     "data": {
      "text/plain": [
       "'Full name of ‘Sachin Tendulkar’ is Sachin Ramesh Tendulkar. \\n'"
      ]
     },
     "execution_count": 39,
     "metadata": {},
     "output_type": "execute_result"
    }
   ],
   "source": [
    "f.readline()"
   ]
  },
  {
   "cell_type": "code",
   "execution_count": 40,
   "id": "d6cdfef0",
   "metadata": {},
   "outputs": [
    {
     "data": {
      "text/plain": [
       "'He was born on 24 April 1973. His father, Ramesh Tendulkar, was a well-known Marathi novelist and his mother, Rajni, worked in the insurance industry. \\n'"
      ]
     },
     "execution_count": 40,
     "metadata": {},
     "output_type": "execute_result"
    }
   ],
   "source": [
    "f.readline()"
   ]
  },
  {
   "cell_type": "code",
   "execution_count": 41,
   "id": "90751c74",
   "metadata": {},
   "outputs": [
    {
     "data": {
      "text/plain": [
       "'He married with Anjali Mehta, the paediatrician daughter of Gujarati industrialist Anand Mehta, in 1995'"
      ]
     },
     "execution_count": 41,
     "metadata": {},
     "output_type": "execute_result"
    }
   ],
   "source": [
    "f.readline()"
   ]
  },
  {
   "cell_type": "code",
   "execution_count": 42,
   "id": "64d42df0",
   "metadata": {},
   "outputs": [],
   "source": [
    "f.close()"
   ]
  },
  {
   "cell_type": "code",
   "execution_count": 46,
   "id": "a0d89795",
   "metadata": {},
   "outputs": [
    {
     "name": "stdout",
     "output_type": "stream",
     "text": [
      "Full name of ‘Sachin Tendulkar’ is Sachin Ramesh Tendulkar. \n",
      "He was born on 24 April 1973. His father, Ramesh Tendulkar, was a well-known Marathi novelist and his mother, Rajni, worked in the insurance industry. \n",
      "He married with Anjali Mehta, the paediatrician daughter of Gujarati industrialist Anand Mehta, in 1995"
     ]
    }
   ],
   "source": [
    "f = open(\"google.txt\" , \"r+\")\n",
    "for line in f:\n",
    "    print(line , end = \"\")"
   ]
  },
  {
   "cell_type": "code",
   "execution_count": 47,
   "id": "def9f5a5",
   "metadata": {},
   "outputs": [
    {
     "data": {
      "text/plain": [
       "9"
      ]
     },
     "execution_count": 47,
     "metadata": {},
     "output_type": "execute_result"
    }
   ],
   "source": [
    "f.write(\"raja yoga\")"
   ]
  },
  {
   "cell_type": "code",
   "execution_count": 48,
   "id": "37cce8c2",
   "metadata": {},
   "outputs": [],
   "source": [
    "f.close()"
   ]
  },
  {
   "cell_type": "code",
   "execution_count": 49,
   "id": "fd9ea987",
   "metadata": {},
   "outputs": [
    {
     "data": {
      "text/plain": [
       "5"
      ]
     },
     "execution_count": 49,
     "metadata": {},
     "output_type": "execute_result"
    }
   ],
   "source": [
    "f = open(\"google.txt\" , \"r+\")\n",
    "f.seek(5)"
   ]
  },
  {
   "cell_type": "code",
   "execution_count": 50,
   "id": "bdb9abef",
   "metadata": {},
   "outputs": [
    {
     "data": {
      "text/plain": [
       "41"
      ]
     },
     "execution_count": 50,
     "metadata": {},
     "output_type": "execute_result"
    }
   ],
   "source": [
    "f.write(\"this is my file operation at 5th location\")"
   ]
  },
  {
   "cell_type": "code",
   "execution_count": 51,
   "id": "2a13a64f",
   "metadata": {},
   "outputs": [],
   "source": [
    "f.close()"
   ]
  },
  {
   "cell_type": "code",
   "execution_count": 54,
   "id": "dbf47d85",
   "metadata": {},
   "outputs": [],
   "source": [
    "f = open(\"google.txt\" , \"r+\")"
   ]
  },
  {
   "cell_type": "code",
   "execution_count": 55,
   "id": "02340464",
   "metadata": {},
   "outputs": [
    {
     "data": {
      "text/plain": [
       "3"
      ]
     },
     "execution_count": 55,
     "metadata": {},
     "output_type": "execute_result"
    }
   ],
   "source": [
    "len(f.readlines())"
   ]
  },
  {
   "cell_type": "code",
   "execution_count": 59,
   "id": "b7bd7926",
   "metadata": {},
   "outputs": [],
   "source": [
    "l = f.readlines()"
   ]
  },
  {
   "cell_type": "code",
   "execution_count": 60,
   "id": "29bc5ee4",
   "metadata": {},
   "outputs": [
    {
     "data": {
      "text/plain": [
       "[]"
      ]
     },
     "execution_count": 60,
     "metadata": {},
     "output_type": "execute_result"
    }
   ],
   "source": [
    "l"
   ]
  },
  {
   "cell_type": "code",
   "execution_count": 61,
   "id": "29c4bb97",
   "metadata": {},
   "outputs": [],
   "source": [
    "f.close()"
   ]
  },
  {
   "cell_type": "code",
   "execution_count": 62,
   "id": "5fad4ee4",
   "metadata": {},
   "outputs": [],
   "source": [
    "f = open(\"google.txt\" , \"r+\")"
   ]
  },
  {
   "cell_type": "code",
   "execution_count": 63,
   "id": "3acfa02f",
   "metadata": {},
   "outputs": [
    {
     "data": {
      "text/plain": [
       "3"
      ]
     },
     "execution_count": 63,
     "metadata": {},
     "output_type": "execute_result"
    }
   ],
   "source": [
    "len(f.readlines())"
   ]
  },
  {
   "cell_type": "code",
   "execution_count": 64,
   "id": "a42d8b3e",
   "metadata": {},
   "outputs": [],
   "source": [
    "l = f.readlines()"
   ]
  },
  {
   "cell_type": "code",
   "execution_count": 65,
   "id": "672c7048",
   "metadata": {},
   "outputs": [
    {
     "data": {
      "text/plain": [
       "[]"
      ]
     },
     "execution_count": 65,
     "metadata": {},
     "output_type": "execute_result"
    }
   ],
   "source": [
    "l"
   ]
  },
  {
   "cell_type": "code",
   "execution_count": 67,
   "id": "2283f807",
   "metadata": {},
   "outputs": [
    {
     "ename": "IndexError",
     "evalue": "list index out of range",
     "output_type": "error",
     "traceback": [
      "\u001b[1;31m---------------------------------------------------------------------------\u001b[0m",
      "\u001b[1;31mIndexError\u001b[0m                                Traceback (most recent call last)",
      "\u001b[1;32m~\\AppData\\Local\\Temp/ipykernel_7460/3849991813.py\u001b[0m in \u001b[0;36m<module>\u001b[1;34m\u001b[0m\n\u001b[1;32m----> 1\u001b[1;33m \u001b[0ml\u001b[0m\u001b[1;33m[\u001b[0m\u001b[1;36m0\u001b[0m\u001b[1;33m]\u001b[0m\u001b[1;33m\u001b[0m\u001b[1;33m\u001b[0m\u001b[0m\n\u001b[0m",
      "\u001b[1;31mIndexError\u001b[0m: list index out of range"
     ]
    }
   ],
   "source": [
    "l[0]"
   ]
  },
  {
   "cell_type": "code",
   "execution_count": 68,
   "id": "3dc5e435",
   "metadata": {},
   "outputs": [],
   "source": [
    "f.close()"
   ]
  },
  {
   "cell_type": "code",
   "execution_count": 70,
   "id": "91b93580",
   "metadata": {},
   "outputs": [
    {
     "data": {
      "text/plain": [
       "'google.txt'"
      ]
     },
     "execution_count": 70,
     "metadata": {},
     "output_type": "execute_result"
    }
   ],
   "source": [
    "f = open(\"google.txt\" , \"r+\")\n",
    "f.name"
   ]
  },
  {
   "cell_type": "code",
   "execution_count": 71,
   "id": "3d20bee9",
   "metadata": {},
   "outputs": [],
   "source": [
    "l = [\"this is line 1\" , \"this is line 2\" , \"this is line 3\"]"
   ]
  },
  {
   "cell_type": "code",
   "execution_count": 72,
   "id": "0bde0e2d",
   "metadata": {},
   "outputs": [],
   "source": [
    "f.writelines(l)"
   ]
  },
  {
   "cell_type": "code",
   "execution_count": 73,
   "id": "1221fcb3",
   "metadata": {},
   "outputs": [],
   "source": [
    "f.close()"
   ]
  },
  {
   "cell_type": "code",
   "execution_count": 75,
   "id": "02bfc386",
   "metadata": {},
   "outputs": [
    {
     "data": {
      "text/plain": [
       "6"
      ]
     },
     "execution_count": 75,
     "metadata": {},
     "output_type": "execute_result"
    }
   ],
   "source": [
    "f = open(\"google.txt\" , \"r+\")\n",
    "f.fileno()"
   ]
  },
  {
   "cell_type": "code",
   "execution_count": 1,
   "id": "1efdc26d",
   "metadata": {},
   "outputs": [
    {
     "name": "stdout",
     "output_type": "stream",
     "text": [
      " Volume in drive C has no label.\n",
      " Volume Serial Number is 7A9F-BBE3\n",
      "\n",
      " Directory of C:\\Users\\User\n",
      "\n",
      "05/08/2022  07:31 PM    <DIR>          .\n",
      "05/08/2022  07:31 PM    <DIR>          ..\n",
      "05/08/2022  10:38 AM    <DIR>          .ipynb_checkpoints\n",
      "03/18/2022  10:30 AM    <DIR>          .ipython\n",
      "04/02/2022  08:16 AM    <DIR>          .jupyter\n",
      "03/05/2022  05:21 AM    <DIR>          3D Objects\n",
      "03/06/2022  04:00 PM    <DIR>          Anaconda3\n",
      "03/05/2022  05:21 AM    <DIR>          Contacts\n",
      "04/09/2022  12:45 PM    <DIR>          Desktop\n",
      "05/08/2022  06:17 PM    <DIR>          Documents\n",
      "04/18/2022  12:38 PM    <DIR>          Downloads\n",
      "04/19/2022  03:29 PM             2,426 Examples.ipynb\n",
      "03/05/2022  05:21 AM    <DIR>          Favorites\n",
      "05/06/2022  09:10 PM            26,051 Function 2.ipynb\n",
      "04/23/2022  06:18 PM            14,277 Function.ipynb\n",
      "05/08/2022  07:28 PM               327 google.txt\n",
      "05/08/2022  07:31 PM            37,349 Iterator generator file system.ipynb\n",
      "03/05/2022  05:21 AM    <DIR>          Links\n",
      "03/05/2022  05:21 AM    <DIR>          Music\n",
      "05/08/2022  05:28 PM    <DIR>          OneDrive\n",
      "03/05/2022  05:23 AM    <DIR>          Pictures\n",
      "04/05/2022  06:19 PM             4,240 Python Basics.ipynb\n",
      "05/03/2022  07:02 PM            13,015 Python Program Discussion 2.ipynb\n",
      "04/19/2022  03:17 PM             5,334 Python Program Discussion 3.ipynb\n",
      "04/15/2022  07:47 PM            11,983 Python Program Discussion.ipynb\n",
      "03/05/2022  05:21 AM    <DIR>          Saved Games\n",
      "03/05/2022  05:23 AM    <DIR>          Searches\n",
      "04/15/2022  05:12 AM            31,508 String,List & Indexing.ipynb\n",
      "05/08/2022  06:18 PM                37 test1.txt\n",
      "05/08/2022  05:56 PM                49 test2.txt\n",
      "04/05/2022  06:19 PM            30,005 TUPLE , SET,DICT.ipynb\n",
      "03/20/2022  10:29 AM               742 Untitled.ipynb\n",
      "04/17/2022  09:49 AM             1,780 Untitled1.ipynb\n",
      "03/23/2022  08:14 PM    <DIR>          Videos\n",
      "              15 File(s)        179,123 bytes\n",
      "              19 Dir(s)  56,401,207,296 bytes free\n"
     ]
    }
   ],
   "source": [
    "%ls"
   ]
  },
  {
   "cell_type": "code",
   "execution_count": 6,
   "id": "7f7f4728",
   "metadata": {},
   "outputs": [],
   "source": [
    "f = open(\"text3.txt\" , \"w\")"
   ]
  },
  {
   "cell_type": "code",
   "execution_count": 7,
   "id": "8f239dac",
   "metadata": {},
   "outputs": [],
   "source": [
    "f.close()"
   ]
  },
  {
   "cell_type": "code",
   "execution_count": 8,
   "id": "d4c77144",
   "metadata": {},
   "outputs": [],
   "source": [
    "import os"
   ]
  },
  {
   "cell_type": "code",
   "execution_count": 9,
   "id": "9bb1a3d2",
   "metadata": {},
   "outputs": [],
   "source": [
    "os.remove(\"text3.txt\")"
   ]
  },
  {
   "cell_type": "code",
   "execution_count": 10,
   "id": "9f67edb7",
   "metadata": {},
   "outputs": [
    {
     "name": "stdout",
     "output_type": "stream",
     "text": [
      " Volume in drive C has no label.\n",
      " Volume Serial Number is 7A9F-BBE3\n",
      "\n",
      " Directory of C:\\Users\\User\n",
      "\n",
      "05/09/2022  09:50 AM    <DIR>          .\n",
      "05/09/2022  09:50 AM    <DIR>          ..\n",
      "05/08/2022  10:38 AM    <DIR>          .ipynb_checkpoints\n",
      "03/18/2022  10:30 AM    <DIR>          .ipython\n",
      "04/02/2022  08:16 AM    <DIR>          .jupyter\n",
      "03/05/2022  05:21 AM    <DIR>          3D Objects\n",
      "03/06/2022  04:00 PM    <DIR>          Anaconda3\n",
      "03/05/2022  05:21 AM    <DIR>          Contacts\n",
      "04/09/2022  12:45 PM    <DIR>          Desktop\n",
      "05/08/2022  06:17 PM    <DIR>          Documents\n",
      "04/18/2022  12:38 PM    <DIR>          Downloads\n",
      "04/19/2022  03:29 PM             2,426 Examples.ipynb\n",
      "03/05/2022  05:21 AM    <DIR>          Favorites\n",
      "05/06/2022  09:10 PM            26,051 Function 2.ipynb\n",
      "04/23/2022  06:18 PM            14,277 Function.ipynb\n",
      "05/08/2022  07:28 PM               327 google.txt\n",
      "05/09/2022  09:49 AM            40,219 Iterator generator file system.ipynb\n",
      "03/05/2022  05:21 AM    <DIR>          Links\n",
      "03/05/2022  05:21 AM    <DIR>          Music\n",
      "05/09/2022  09:40 AM    <DIR>          OneDrive\n",
      "03/05/2022  05:23 AM    <DIR>          Pictures\n",
      "04/05/2022  06:19 PM             4,240 Python Basics.ipynb\n",
      "05/03/2022  07:02 PM            13,015 Python Program Discussion 2.ipynb\n",
      "04/19/2022  03:17 PM             5,334 Python Program Discussion 3.ipynb\n",
      "04/15/2022  07:47 PM            11,983 Python Program Discussion.ipynb\n",
      "03/05/2022  05:21 AM    <DIR>          Saved Games\n",
      "03/05/2022  05:23 AM    <DIR>          Searches\n",
      "04/15/2022  05:12 AM            31,508 String,List & Indexing.ipynb\n",
      "05/08/2022  06:18 PM                37 test1.txt\n",
      "05/08/2022  05:56 PM                49 test2.txt\n",
      "04/05/2022  06:19 PM            30,005 TUPLE , SET,DICT.ipynb\n",
      "03/20/2022  10:29 AM               742 Untitled.ipynb\n",
      "04/17/2022  09:49 AM             1,780 Untitled1.ipynb\n",
      "03/23/2022  08:14 PM    <DIR>          Videos\n",
      "              15 File(s)        181,993 bytes\n",
      "              19 Dir(s)  56,392,581,120 bytes free\n"
     ]
    }
   ],
   "source": [
    "%ls"
   ]
  },
  {
   "cell_type": "code",
   "execution_count": 11,
   "id": "29c06c6d",
   "metadata": {},
   "outputs": [
    {
     "data": {
      "text/plain": [
       "'C:\\\\Users\\\\User'"
      ]
     },
     "execution_count": 11,
     "metadata": {},
     "output_type": "execute_result"
    }
   ],
   "source": [
    "os.getcwd()"
   ]
  },
  {
   "cell_type": "code",
   "execution_count": 12,
   "id": "52a86978",
   "metadata": {},
   "outputs": [
    {
     "data": {
      "text/plain": [
       "'C:\\\\Users\\\\User'"
      ]
     },
     "execution_count": 12,
     "metadata": {},
     "output_type": "execute_result"
    }
   ],
   "source": [
    "pwd"
   ]
  },
  {
   "cell_type": "code",
   "execution_count": 13,
   "id": "3365d037",
   "metadata": {},
   "outputs": [
    {
     "data": {
      "text/plain": [
       "['.ipynb_checkpoints',\n",
       " '.ipython',\n",
       " '.jupyter',\n",
       " '3D Objects',\n",
       " 'Anaconda3',\n",
       " 'AppData',\n",
       " 'Application Data',\n",
       " 'Contacts',\n",
       " 'Cookies',\n",
       " 'Desktop',\n",
       " 'Documents',\n",
       " 'Downloads',\n",
       " 'Examples.ipynb',\n",
       " 'Favorites',\n",
       " 'Function 2.ipynb',\n",
       " 'Function.ipynb',\n",
       " 'google.txt',\n",
       " 'IntelGraphicsProfiles',\n",
       " 'Iterator generator file system.ipynb',\n",
       " 'Links',\n",
       " 'Local Settings',\n",
       " 'MicrosoftEdgeBackups',\n",
       " 'Music',\n",
       " 'My Documents',\n",
       " 'NetHood',\n",
       " 'NTUSER.DAT',\n",
       " 'ntuser.dat.LOG1',\n",
       " 'ntuser.dat.LOG2',\n",
       " 'NTUSER.DAT{53b39e88-18c4-11ea-a811-000d3aa4692b}.TM.blf',\n",
       " 'NTUSER.DAT{53b39e88-18c4-11ea-a811-000d3aa4692b}.TMContainer00000000000000000001.regtrans-ms',\n",
       " 'NTUSER.DAT{53b39e88-18c4-11ea-a811-000d3aa4692b}.TMContainer00000000000000000002.regtrans-ms',\n",
       " 'ntuser.ini',\n",
       " 'OneDrive',\n",
       " 'Pictures',\n",
       " 'PrintHood',\n",
       " 'Python Basics.ipynb',\n",
       " 'Python Program Discussion 2.ipynb',\n",
       " 'Python Program Discussion 3.ipynb',\n",
       " 'Python Program Discussion.ipynb',\n",
       " 'Recent',\n",
       " 'Saved Games',\n",
       " 'Searches',\n",
       " 'SendTo',\n",
       " 'Start Menu',\n",
       " 'String,List & Indexing.ipynb',\n",
       " 'Templates',\n",
       " 'test1.txt',\n",
       " 'test2.txt',\n",
       " 'TUPLE , SET,DICT.ipynb',\n",
       " 'Untitled.ipynb',\n",
       " 'Untitled1.ipynb',\n",
       " 'Videos']"
      ]
     },
     "execution_count": 13,
     "metadata": {},
     "output_type": "execute_result"
    }
   ],
   "source": [
    "os.listdir()"
   ]
  },
  {
   "cell_type": "code",
   "execution_count": null,
   "id": "2f38d560",
   "metadata": {},
   "outputs": [],
   "source": []
  }
 ],
 "metadata": {
  "kernelspec": {
   "display_name": "Python 3 (ipykernel)",
   "language": "python",
   "name": "python3"
  },
  "language_info": {
   "codemirror_mode": {
    "name": "ipython",
    "version": 3
   },
   "file_extension": ".py",
   "mimetype": "text/x-python",
   "name": "python",
   "nbconvert_exporter": "python",
   "pygments_lexer": "ipython3",
   "version": "3.9.7"
  }
 },
 "nbformat": 4,
 "nbformat_minor": 5
}
