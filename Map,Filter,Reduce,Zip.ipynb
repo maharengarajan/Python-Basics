{
 "cells": [
  {
   "cell_type": "code",
   "execution_count": null,
   "id": "a42be209",
   "metadata": {},
   "outputs": [],
   "source": [
    "#add 5 on each element\n",
    "l = [1,2,3,4,5,6]"
   ]
  },
  {
   "cell_type": "code",
   "execution_count": 16,
   "id": "61bd90d6",
   "metadata": {},
   "outputs": [
    {
     "name": "stdout",
     "output_type": "stream",
     "text": [
      "[6, 7, 8, 9, 10, 11]\n"
     ]
    }
   ],
   "source": [
    "#step 1 (using for loop)\n",
    "l = [1,2,3,4,5,6]\n",
    "l1 = []\n",
    "for i in l:\n",
    "    l1.append(i+5)\n",
    "print(l1)"
   ]
  },
  {
   "cell_type": "code",
   "execution_count": 17,
   "id": "907e2f2f",
   "metadata": {},
   "outputs": [
    {
     "data": {
      "text/plain": [
       "[6, 7, 8, 9, 10, 11]"
      ]
     },
     "execution_count": 17,
     "metadata": {},
     "output_type": "execute_result"
    }
   ],
   "source": [
    "#step 2 (using list comprehension)\n",
    "[i+5 for i in l]"
   ]
  },
  {
   "cell_type": "code",
   "execution_count": 18,
   "id": "edf6ec1f",
   "metadata": {},
   "outputs": [],
   "source": [
    "#step 3 (using our own function)\n",
    "def test(a):\n",
    "    l1 = []\n",
    "    for i in l:\n",
    "        l1.append(i+5)\n",
    "    return(l1)"
   ]
  },
  {
   "cell_type": "code",
   "execution_count": 19,
   "id": "ed455618",
   "metadata": {},
   "outputs": [
    {
     "data": {
      "text/plain": [
       "[6, 7, 8, 9, 10, 11]"
      ]
     },
     "execution_count": 19,
     "metadata": {},
     "output_type": "execute_result"
    }
   ],
   "source": [
    "test(l)"
   ]
  },
  {
   "cell_type": "code",
   "execution_count": 20,
   "id": "09cfb3e7",
   "metadata": {},
   "outputs": [
    {
     "data": {
      "text/plain": [
       "[6, 7, 8, 9, 10, 11]"
      ]
     },
     "execution_count": 20,
     "metadata": {},
     "output_type": "execute_result"
    }
   ],
   "source": [
    "#step 4 (using map & lambda)\n",
    "list(map(lambda x:x+5 , l))"
   ]
  },
  {
   "cell_type": "code",
   "execution_count": 21,
   "id": "a4b21a70",
   "metadata": {},
   "outputs": [
    {
     "name": "stdout",
     "output_type": "stream",
     "text": [
      "[123, 456]\n"
     ]
    }
   ],
   "source": [
    "#converting str into int\n",
    "l = [\"123\" , \"456\"]\n",
    "l1 = []\n",
    "for i in l:\n",
    "    l1.append(int(i))\n",
    "print(l1)"
   ]
  },
  {
   "cell_type": "code",
   "execution_count": 24,
   "id": "1fe49799",
   "metadata": {},
   "outputs": [],
   "source": [
    "l = [\"123\" , \"456\"]\n",
    "l1 = []\n",
    "def test1(a):\n",
    "    for i in l:\n",
    "        l1.append(int(i))\n",
    "    return (l1)"
   ]
  },
  {
   "cell_type": "code",
   "execution_count": 26,
   "id": "4bc6a6f3",
   "metadata": {},
   "outputs": [
    {
     "data": {
      "text/plain": [
       "[123, 456]"
      ]
     },
     "execution_count": 26,
     "metadata": {},
     "output_type": "execute_result"
    }
   ],
   "source": [
    "test1(l)"
   ]
  },
  {
   "cell_type": "code",
   "execution_count": 27,
   "id": "2136b5b4",
   "metadata": {},
   "outputs": [
    {
     "data": {
      "text/plain": [
       "[123, 456]"
      ]
     },
     "execution_count": 27,
     "metadata": {},
     "output_type": "execute_result"
    }
   ],
   "source": [
    "[int(i) for i in l]"
   ]
  },
  {
   "cell_type": "code",
   "execution_count": 32,
   "id": "83102c30",
   "metadata": {},
   "outputs": [
    {
     "name": "stdout",
     "output_type": "stream",
     "text": [
      "[4, 6, 8, 10]\n"
     ]
    }
   ],
   "source": [
    "#filtering even number\n",
    "l = [4,5,6,7,8,9,10]\n",
    "l1 = []\n",
    "for i in l:\n",
    "    if i%2 == 0:\n",
    "        l1.append(i)\n",
    "print(l1)\n",
    "    "
   ]
  },
  {
   "cell_type": "code",
   "execution_count": 35,
   "id": "557c001c",
   "metadata": {},
   "outputs": [],
   "source": [
    "l = [4,5,6,7,8,9,10]\n",
    "l1 = []\n",
    "def test2(a):\n",
    "    for i in l:\n",
    "        if i%2 == 0:\n",
    "            l1.append(i)\n",
    "    return(l1)"
   ]
  },
  {
   "cell_type": "code",
   "execution_count": 36,
   "id": "9f5623ae",
   "metadata": {},
   "outputs": [
    {
     "data": {
      "text/plain": [
       "[4, 6, 8, 10]"
      ]
     },
     "execution_count": 36,
     "metadata": {},
     "output_type": "execute_result"
    }
   ],
   "source": [
    "test2(l)"
   ]
  },
  {
   "cell_type": "code",
   "execution_count": 41,
   "id": "4234630c",
   "metadata": {},
   "outputs": [
    {
     "data": {
      "text/plain": [
       "[4, 6, 8, 10]"
      ]
     },
     "execution_count": 41,
     "metadata": {},
     "output_type": "execute_result"
    }
   ],
   "source": [
    "[i for i in l if i%2 == 0]"
   ]
  },
  {
   "cell_type": "code",
   "execution_count": 42,
   "id": "93245a8b",
   "metadata": {},
   "outputs": [
    {
     "data": {
      "text/plain": [
       "18"
      ]
     },
     "execution_count": 42,
     "metadata": {},
     "output_type": "execute_result"
    }
   ],
   "source": [
    "#sum of all element in list\n",
    "l = [3,4,5,6]\n",
    "sum(l)"
   ]
  },
  {
   "cell_type": "code",
   "execution_count": 45,
   "id": "0246bf95",
   "metadata": {},
   "outputs": [],
   "source": [
    "l1 = []\n",
    "def test5(a,b):\n",
    "    for i in l:\n",
    "        l1.append(a+b)\n",
    "    return(l1)\n",
    "        \n",
    "    "
   ]
  },
  {
   "cell_type": "code",
   "execution_count": 46,
   "id": "4a3103b4",
   "metadata": {},
   "outputs": [
    {
     "ename": "TypeError",
     "evalue": "test5() missing 1 required positional argument: 'b'",
     "output_type": "error",
     "traceback": [
      "\u001b[1;31m---------------------------------------------------------------------------\u001b[0m",
      "\u001b[1;31mTypeError\u001b[0m                                 Traceback (most recent call last)",
      "\u001b[1;32m~\\AppData\\Local\\Temp/ipykernel_12624/4290444397.py\u001b[0m in \u001b[0;36m<module>\u001b[1;34m\u001b[0m\n\u001b[1;32m----> 1\u001b[1;33m \u001b[0mtest5\u001b[0m\u001b[1;33m(\u001b[0m\u001b[0ml\u001b[0m\u001b[1;33m)\u001b[0m\u001b[1;33m\u001b[0m\u001b[1;33m\u001b[0m\u001b[0m\n\u001b[0m",
      "\u001b[1;31mTypeError\u001b[0m: test5() missing 1 required positional argument: 'b'"
     ]
    }
   ],
   "source": [
    "test5(l)"
   ]
  },
  {
   "cell_type": "code",
   "execution_count": null,
   "id": "1c4cf323",
   "metadata": {},
   "outputs": [],
   "source": []
  }
 ],
 "metadata": {
  "kernelspec": {
   "display_name": "Python 3 (ipykernel)",
   "language": "python",
   "name": "python3"
  },
  "language_info": {
   "codemirror_mode": {
    "name": "ipython",
    "version": 3
   },
   "file_extension": ".py",
   "mimetype": "text/x-python",
   "name": "python",
   "nbconvert_exporter": "python",
   "pygments_lexer": "ipython3",
   "version": "3.9.7"
  }
 },
 "nbformat": 4,
 "nbformat_minor": 5
}
