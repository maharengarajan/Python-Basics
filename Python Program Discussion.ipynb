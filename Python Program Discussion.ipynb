{
 "cells": [
  {
   "cell_type": "code",
   "execution_count": 6,
   "id": "9c7dce4e",
   "metadata": {},
   "outputs": [
    {
     "name": "stdout",
     "output_type": "stream",
     "text": [
      "my name is raja\n"
     ]
    }
   ],
   "source": [
    "a = 10\n",
    "if a < 15:\n",
    "    print(\"my name is raja\")"
   ]
  },
  {
   "cell_type": "code",
   "execution_count": 7,
   "id": "7485d555",
   "metadata": {},
   "outputs": [],
   "source": [
    "a = 10\n",
    "if a < 15:\n",
    "    pass"
   ]
  },
  {
   "cell_type": "code",
   "execution_count": 8,
   "id": "7b49415d",
   "metadata": {},
   "outputs": [],
   "source": [
    "if 24 < 15:\n",
    "    print(\"raja\")"
   ]
  },
  {
   "cell_type": "code",
   "execution_count": 9,
   "id": "1f1c8e19",
   "metadata": {},
   "outputs": [
    {
     "name": "stdout",
     "output_type": "stream",
     "text": [
      "yoga\n"
     ]
    }
   ],
   "source": [
    "if 15 < 3:\n",
    "    print(\"raja\")\n",
    "else:\n",
    "    print(\"yoga\")"
   ]
  },
  {
   "cell_type": "code",
   "execution_count": 10,
   "id": "6b834faa",
   "metadata": {},
   "outputs": [
    {
     "name": "stdout",
     "output_type": "stream",
     "text": [
      "raja\n"
     ]
    }
   ],
   "source": [
    "if 15 < 16:\n",
    "    print(\"raja\")\n",
    "else:\n",
    "    print(\"yoga\")"
   ]
  },
  {
   "cell_type": "code",
   "execution_count": 11,
   "id": "2710cf2f",
   "metadata": {},
   "outputs": [
    {
     "name": "stdout",
     "output_type": "stream",
     "text": [
      "noting able to buy\n"
     ]
    }
   ],
   "source": [
    "income = 100\n",
    "if income < 50:                         #100 < 50 False\n",
    "    print(\"i can able to buy phone\")\n",
    "elif income < 60:                       #100 < 60 False\n",
    "    print(\"i can able to buy car\")\n",
    "elif income < 90:                       #100 < 90 False\n",
    "    print(\"i can able to buy house\")\n",
    "else:\n",
    "    print(\"noting able to buy\")"
   ]
  },
  {
   "cell_type": "code",
   "execution_count": 13,
   "id": "177e5b12",
   "metadata": {},
   "outputs": [
    {
     "name": "stdout",
     "output_type": "stream",
     "text": [
      "10\n",
      "i can able to buy phone\n"
     ]
    }
   ],
   "source": [
    "income = int(input())                 #getting input from user\n",
    "if income < 50:                         \n",
    "    print(\"i can able to buy phone\")\n",
    "elif income < 60:                       \n",
    "    print(\"i can able to buy car\")\n",
    "elif income < 90:                       \n",
    "    print(\"i can able to buy house\")\n",
    "else:\n",
    "    print(\"noting able to buy\")"
   ]
  },
  {
   "cell_type": "code",
   "execution_count": 19,
   "id": "a42b3eeb",
   "metadata": {},
   "outputs": [
    {
     "name": "stdout",
     "output_type": "stream",
     "text": [
      "8000\n",
      "wont give any discount\n"
     ]
    }
   ],
   "source": [
    "Total_price = int(input())\n",
    "if Total_price > 20000:\n",
    "    discount = Total_price * .20\n",
    "    print(\"discount will be\" , discount)\n",
    "elif Total_price < 7000:\n",
    "    discount = Total_price * .05\n",
    "    print(\"discount will be\" , discount)\n",
    "else:\n",
    "    print(\"wont give any discount\")\n",
    "    "
   ]
  },
  {
   "cell_type": "code",
   "execution_count": 21,
   "id": "2b603f13",
   "metadata": {},
   "outputs": [
    {
     "name": "stdout",
     "output_type": "stream",
     "text": [
      "raja007\n",
      "you will get discount of 5 percent\n",
      "you will get discount of 3500.0\n"
     ]
    }
   ],
   "source": [
    "coup = input()\n",
    "if coup ==\"raja007\":\n",
    "    print(\"you will get discount of 5 percent\")\n",
    "    paid_amount = 7000 - 7000*.5\n",
    "    print(\"you will get discount of\", paid_amount)\n",
    "else:\n",
    "    print(\"enter valid coupon code\")\n",
    "    \n"
   ]
  },
  {
   "cell_type": "code",
   "execution_count": 6,
   "id": "26587149",
   "metadata": {},
   "outputs": [
    {
     "name": "stdout",
     "output_type": "stream",
     "text": [
      "0.5\n",
      "it may take 10 months\n"
     ]
    }
   ],
   "source": [
    "study_hour = float(input())\n",
    "if study_hour < 1:\n",
    "    print(\"it may take 10 months\")\n",
    "elif study_hour >1 and study_hour <4:\n",
    "    print(\"it may take 6 months\")\n",
    "elif study_hour > 10:\n",
    "    print(\"it may take 3 month\")\n",
    "else:\n",
    "    print(\"it may difficult\")\n",
    "    "
   ]
  },
  {
   "cell_type": "code",
   "execution_count": 1,
   "id": "6dd97d6a",
   "metadata": {},
   "outputs": [
    {
     "name": "stdout",
     "output_type": "stream",
     "text": [
      "enter any name to startoneneuron\n",
      "enter course nameblockchain\n",
      "enter service namedemand\n",
      "yes available also\n"
     ]
    }
   ],
   "source": [
    "s = input(\"enter any name to start\")\n",
    "course = input(\"enter course name\")\n",
    "service = input(\"enter service name\")\n",
    "if s ==\"oneneuron\":\n",
    "    if course ==\"DSA\":\n",
    "        print(\"yes available\")\n",
    "    elif course ==\"blockchain\":\n",
    "        print(\"yes available also\")\n",
    "    else:\n",
    "        print(\"not available\")\n",
    "elif s ==\"oneneuronservice\":\n",
    "    if service ==\"course request\":\n",
    "        print(\"ok\")\n",
    "    elif service ==\"demand\":\n",
    "        print(\"ok will see\")\n",
    "else:\n",
    "        print(\"nothing\")\n",
    "        "
   ]
  },
  {
   "cell_type": "code",
   "execution_count": 2,
   "id": "3a86335c",
   "metadata": {},
   "outputs": [
    {
     "name": "stdout",
     "output_type": "stream",
     "text": [
      "1\n",
      "2\n",
      "3\n",
      "4\n",
      "5\n",
      "6\n",
      "7\n"
     ]
    }
   ],
   "source": [
    "l = [1,2,3,4,5,6,7]       #i = local variable\n",
    "for i in l:\n",
    "    print(i)"
   ]
  },
  {
   "cell_type": "code",
   "execution_count": 4,
   "id": "d1aa9b38",
   "metadata": {},
   "outputs": [
    {
     "name": "stdout",
     "output_type": "stream",
     "text": [
      "y\n",
      "o\n",
      "g\n",
      "a\n"
     ]
    }
   ],
   "source": [
    "s =\"yoga\"\n",
    "for i in s:\n",
    "    print(i)"
   ]
  },
  {
   "cell_type": "code",
   "execution_count": 5,
   "id": "5796d576",
   "metadata": {},
   "outputs": [
    {
     "name": "stdout",
     "output_type": "stream",
     "text": [
      "1\n",
      "2\n",
      "3\n",
      "4\n",
      "4\n",
      "4\n",
      "5\n",
      "6\n"
     ]
    }
   ],
   "source": [
    "t = (1,2,3,4,4,4,5,6)\n",
    "for i in t:\n",
    "    print(i)"
   ]
  },
  {
   "cell_type": "code",
   "execution_count": 6,
   "id": "f9da5604",
   "metadata": {},
   "outputs": [
    {
     "name": "stdout",
     "output_type": "stream",
     "text": [
      "<class 'int'>\n",
      "<class 'int'>\n",
      "<class 'float'>\n",
      "<class 'float'>\n",
      "<class 'str'>\n",
      "<class 'complex'>\n"
     ]
    }
   ],
   "source": [
    "l =[1,2,3.3,4.5,\"raja\",5.6j]\n",
    "for i in l:\n",
    "    print(type(i))"
   ]
  },
  {
   "cell_type": "code",
   "execution_count": 14,
   "id": "368a1ca7",
   "metadata": {},
   "outputs": [
    {
     "name": "stdout",
     "output_type": "stream",
     "text": [
      "3\n",
      "4\n",
      "5.3\n",
      "6.5\n"
     ]
    }
   ],
   "source": [
    "l = [1,2,3.3,4.5]\n",
    "l1 = []\n",
    "for i in l:\n",
    "    print(i+2)\n",
    "    l1.append(i+2)"
   ]
  },
  {
   "cell_type": "code",
   "execution_count": 15,
   "id": "b6efd341",
   "metadata": {},
   "outputs": [
    {
     "data": {
      "text/plain": [
       "[3, 4, 5.3, 6.5]"
      ]
     },
     "execution_count": 15,
     "metadata": {},
     "output_type": "execute_result"
    }
   ],
   "source": [
    "l1"
   ]
  },
  {
   "cell_type": "code",
   "execution_count": 16,
   "id": "caa0f9cf",
   "metadata": {},
   "outputs": [
    {
     "name": "stdout",
     "output_type": "stream",
     "text": [
      "1\n",
      "2\n",
      "3\n"
     ]
    }
   ],
   "source": [
    "l = [1,2,3,4.4,5.6j,\"raja\"]\n",
    "for i in l:\n",
    "    if type(i) == int:\n",
    "        print(i)"
   ]
  },
  {
   "cell_type": "code",
   "execution_count": 19,
   "id": "4de54f7a",
   "metadata": {},
   "outputs": [
    {
     "name": "stdout",
     "output_type": "stream",
     "text": [
      "1\n",
      "2\n",
      "3\n",
      "4\n",
      "5\n",
      "6\n"
     ]
    }
   ],
   "source": [
    "l = [1,2,3,4,5,6]\n",
    "for s in l:\n",
    "    print(s)"
   ]
  },
  {
   "cell_type": "code",
   "execution_count": 14,
   "id": "6fee4739",
   "metadata": {},
   "outputs": [
    {
     "name": "stdout",
     "output_type": "stream",
     "text": [
      "index 0 for an element 2\n",
      "index 1 for an element 45\n",
      "index 2 for an element 78\n",
      "index 3 for an element 12\n",
      "index 4 for an element sudh\n",
      "index 5 for an element (6+7j)\n",
      "index 6 for an element [56, 67, 78, 'dsfdsf']\n"
     ]
    }
   ],
   "source": [
    "l = [2,45,78,12,\"sudh\",6+7j,[56,67,78,\"dsfdsf\"]]\n",
    "for i in range(len(l)):\n",
    "    print(\"index\" , i , \"for an element\" ,l[i])"
   ]
  },
  {
   "cell_type": "code",
   "execution_count": 15,
   "id": "0149c683",
   "metadata": {},
   "outputs": [
    {
     "name": "stdout",
     "output_type": "stream",
     "text": [
      "(0, 2)\n",
      "(1, 45)\n",
      "(2, 78)\n",
      "(3, 12)\n",
      "(4, 'sudh')\n",
      "(5, (6+7j))\n",
      "(6, [56, 67, 78, 'dsfdsf'])\n"
     ]
    }
   ],
   "source": [
    "l = [2,45,78,12,\"sudh\",6+7j,[56,67,78,\"dsfdsf\"]]\n",
    "for i in enumerate(l):\n",
    "    print(i)"
   ]
  },
  {
   "cell_type": "code",
   "execution_count": 16,
   "id": "19a73668",
   "metadata": {},
   "outputs": [
    {
     "name": "stdout",
     "output_type": "stream",
     "text": [
      "0 2\n",
      "1 45\n",
      "2 78\n",
      "3 12\n",
      "4 sudh\n",
      "5 (6+7j)\n",
      "6 [56, 67, 78, 'dsfdsf']\n"
     ]
    }
   ],
   "source": [
    "l = [2,45,78,12,\"sudh\",6+7j,[56,67,78,\"dsfdsf\"]]\n",
    "for i,j in enumerate(l):\n",
    "    print(i,j)"
   ]
  },
  {
   "cell_type": "code",
   "execution_count": 25,
   "id": "4302ac99",
   "metadata": {},
   "outputs": [
    {
     "name": "stdout",
     "output_type": "stream",
     "text": [
      "['s', 'u', 'd', 'h']\n"
     ]
    }
   ],
   "source": [
    "l = [2,45,78,12,\"sudh\",6+7j,[56,67,78,\"dsfdsf\"]]\n",
    "for i in l:\n",
    "    if type(i)==str:\n",
    "        l1 = []\n",
    "        for j in i:\n",
    "            l1.append(j)\n",
    "        print(l1)"
   ]
  },
  {
   "cell_type": "code",
   "execution_count": 31,
   "id": "dc25dbf3",
   "metadata": {},
   "outputs": [
    {
     "name": "stdout",
     "output_type": "stream",
     "text": [
      "[4]\n",
      "[4, 2025]\n",
      "[4, 2025, 6084]\n",
      "[4, 2025, 6084, 144]\n"
     ]
    }
   ],
   "source": [
    "l = [2,45,78,12,\"sudh\",6+7j,[56,67,78,\"dsfdsf\"]]\n",
    "l2 = []\n",
    "for i in l:\n",
    "    if type(i)==int:\n",
    "        l2.append(i**2)\n",
    "        print(l2)"
   ]
  },
  {
   "cell_type": "code",
   "execution_count": null,
   "id": "6957bc33",
   "metadata": {},
   "outputs": [],
   "source": []
  }
 ],
 "metadata": {
  "kernelspec": {
   "display_name": "Python 3 (ipykernel)",
   "language": "python",
   "name": "python3"
  },
  "language_info": {
   "codemirror_mode": {
    "name": "ipython",
    "version": 3
   },
   "file_extension": ".py",
   "mimetype": "text/x-python",
   "name": "python",
   "nbconvert_exporter": "python",
   "pygments_lexer": "ipython3",
   "version": "3.9.7"
  }
 },
 "nbformat": 4,
 "nbformat_minor": 5
}
