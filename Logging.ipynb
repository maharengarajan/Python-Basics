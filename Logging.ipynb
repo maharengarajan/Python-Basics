{
 "cells": [
  {
   "cell_type": "code",
   "execution_count": 1,
   "id": "6098e4c3",
   "metadata": {},
   "outputs": [],
   "source": [
    "import logging"
   ]
  },
  {
   "cell_type": "code",
   "execution_count": 4,
   "id": "62b4f4bd",
   "metadata": {},
   "outputs": [],
   "source": [
    "logging.basicConfig(filename = \"test22.log\")"
   ]
  },
  {
   "cell_type": "code",
   "execution_count": 12,
   "id": "660dc4b9",
   "metadata": {},
   "outputs": [],
   "source": [
    "logging.basicConfig(filename = \"test22.log\" , level = logging.INFO)"
   ]
  },
  {
   "cell_type": "code",
   "execution_count": 10,
   "id": "43511512",
   "metadata": {},
   "outputs": [],
   "source": [
    "logging.info(\"this is my info log\")\n",
    "logging.warning(\"this is my warning log\")\n",
    "logging.error(\"this is my error log\")"
   ]
  },
  {
   "cell_type": "code",
   "execution_count": 8,
   "id": "56b3c4a3",
   "metadata": {},
   "outputs": [],
   "source": [
    "logging.shutdown()"
   ]
  },
  {
   "cell_type": "code",
   "execution_count": 3,
   "id": "75cf90e4",
   "metadata": {},
   "outputs": [
    {
     "data": {
      "text/plain": [
       "'C:\\\\Users\\\\User'"
      ]
     },
     "execution_count": 3,
     "metadata": {},
     "output_type": "execute_result"
    }
   ],
   "source": [
    "pwd()"
   ]
  },
  {
   "cell_type": "code",
   "execution_count": 6,
   "id": "9ca7e631",
   "metadata": {},
   "outputs": [],
   "source": [
    "#Types of logg\n",
    "\n",
    "#DEBUG\n",
    "#INFO\n",
    "#WARNING\n",
    "#ERROR\n",
    "#CRITICAL"
   ]
  },
  {
   "cell_type": "code",
   "execution_count": 3,
   "id": "87f844c8",
   "metadata": {},
   "outputs": [],
   "source": [
    "logging.basicConfig(filename = \"test33.log\" , level = logging.DEBUG , format = \"%(asctime)s %(levelname)s %(message)s\")"
   ]
  },
  {
   "cell_type": "code",
   "execution_count": 4,
   "id": "4edbdebd",
   "metadata": {},
   "outputs": [],
   "source": [
    "logging.info(\"this is my info log\")\n",
    "logging.warning(\"this is my warning log\")\n",
    "logging.debug(\"this is my debugging log\")"
   ]
  },
  {
   "cell_type": "code",
   "execution_count": null,
   "id": "d1cd42d0",
   "metadata": {},
   "outputs": [],
   "source": [
    "#priority hierachy\n",
    "\n",
    "#error      -- top priority\n",
    "#warning\n",
    "#info\n",
    "#debug"
   ]
  },
  {
   "cell_type": "code",
   "execution_count": 7,
   "id": "49f2071d",
   "metadata": {},
   "outputs": [],
   "source": [
    "import logging\n",
    "logging.basicConfig(filename = \"test44.log\" , level = logging.DEBUG , format = \"%(asctime)s %(levelname)s %(message)s\")"
   ]
  },
  {
   "cell_type": "code",
   "execution_count": 8,
   "id": "fa7d6c8c",
   "metadata": {},
   "outputs": [],
   "source": [
    "def divbyzero(a,b):\n",
    "    logging.info(\"this is my start of my code and i enter %s and %s , a,b\")\n",
    "    try:\n",
    "        div = a/b\n",
    "        logging.info(\"executed successfully\")\n",
    "    except Exception as e:\n",
    "        logging.error(\"error has happened\")\n",
    "        logging.exception(\"exception occured\" + str(e))"
   ]
  },
  {
   "cell_type": "code",
   "execution_count": 9,
   "id": "b6faee60",
   "metadata": {},
   "outputs": [],
   "source": [
    "divbyzero(5,6)"
   ]
  },
  {
   "cell_type": "code",
   "execution_count": 6,
   "id": "e0e18d11",
   "metadata": {},
   "outputs": [],
   "source": [
    "divbyzero(4,0)"
   ]
  }
 ],
 "metadata": {
  "kernelspec": {
   "display_name": "Python 3 (ipykernel)",
   "language": "python",
   "name": "python3"
  },
  "language_info": {
   "codemirror_mode": {
    "name": "ipython",
    "version": 3
   },
   "file_extension": ".py",
   "mimetype": "text/x-python",
   "name": "python",
   "nbconvert_exporter": "python",
   "pygments_lexer": "ipython3",
   "version": "3.9.7"
  }
 },
 "nbformat": 4,
 "nbformat_minor": 5
}
