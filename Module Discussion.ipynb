{
 "cells": [
  {
   "cell_type": "code",
   "execution_count": 7,
   "id": "b9d01cca",
   "metadata": {},
   "outputs": [
    {
     "name": "stdout",
     "output_type": "stream",
     "text": [
      " Volume in drive C has no label.\n",
      " Volume Serial Number is 7A9F-BBE3\n",
      "\n",
      " Directory of C:\\Users\\User\n",
      "\n",
      "05/29/2022  09:57 AM    <DIR>          .\n",
      "05/29/2022  09:57 AM    <DIR>          ..\n",
      "05/29/2022  09:08 AM    <DIR>          .ipynb_checkpoints\n",
      "03/18/2022  10:30 AM    <DIR>          .ipython\n",
      "04/02/2022  08:16 AM    <DIR>          .jupyter\n",
      "05/29/2022  09:52 AM    <DIR>          __pycache__\n",
      "03/05/2022  05:21 AM    <DIR>          3D Objects\n",
      "03/06/2022  04:00 PM    <DIR>          Anaconda3\n",
      "03/05/2022  05:21 AM    <DIR>          Contacts\n",
      "05/25/2022  08:01 PM    <DIR>          Desktop\n",
      "05/08/2022  06:17 PM    <DIR>          Documents\n",
      "05/29/2022  09:20 AM    <DIR>          Downloads\n",
      "04/19/2022  03:29 PM             2,426 Examples.ipynb\n",
      "05/25/2022  07:29 PM            32,271 Exception handling 1.ipynb\n",
      "03/05/2022  05:21 AM    <DIR>          Favorites\n",
      "05/06/2022  09:10 PM            26,051 Function 2.ipynb\n",
      "04/23/2022  06:18 PM            14,277 Function.ipynb\n",
      "05/22/2022  09:09 PM                 0 google\n",
      "05/08/2022  07:28 PM               327 google.txt\n",
      "05/09/2022  11:21 AM            46,135 Iterator generator file system.ipynb\n",
      "03/05/2022  05:21 AM    <DIR>          Links\n",
      "05/24/2022  07:19 PM             4,100 Logging.ipynb\n",
      "05/29/2022  09:56 AM             5,143 Module Discussion.ipynb\n",
      "03/05/2022  05:21 AM    <DIR>          Music\n",
      "05/29/2022  09:21 AM    <DIR>          Notepad++\n",
      "05/29/2022  09:01 AM    <DIR>          OneDrive\n",
      "03/05/2022  05:23 AM    <DIR>          Pictures\n",
      "04/05/2022  06:19 PM             4,240 Python Basics.ipynb\n",
      "05/03/2022  07:02 PM            13,015 Python Program Discussion 2.ipynb\n",
      "04/19/2022  03:17 PM             5,334 Python Program Discussion 3.ipynb\n",
      "04/15/2022  07:47 PM            11,983 Python Program Discussion.ipynb\n",
      "03/05/2022  05:21 AM    <DIR>          Saved Games\n",
      "03/05/2022  05:23 AM    <DIR>          Searches\n",
      "04/15/2022  05:12 AM            31,508 String,List & Indexing.ipynb\n",
      "05/08/2022  06:18 PM                37 test1.txt\n",
      "05/08/2022  05:56 PM                49 test2.txt\n",
      "05/23/2022  07:16 PM               387 test22.log\n",
      "05/19/2022  04:56 PM                22 test3.txt\n",
      "05/23/2022  07:23 PM               314 test33.log\n",
      "05/19/2022  05:00 PM                 0 test43.txt\n",
      "05/24/2022  07:01 PM             2,398 test44.log\n",
      "05/29/2022  09:56 AM                31 test46.py\n",
      "04/05/2022  06:19 PM            30,005 TUPLE , SET,DICT.ipynb\n",
      "03/20/2022  10:29 AM               742 Untitled.ipynb\n",
      "04/17/2022  09:49 AM             1,780 Untitled1.ipynb\n",
      "05/14/2022  06:36 AM               588 Untitled2.ipynb\n",
      "03/23/2022  08:14 PM    <DIR>          Videos\n",
      "              26 File(s)        233,163 bytes\n",
      "              21 Dir(s)  53,387,239,424 bytes free\n"
     ]
    }
   ],
   "source": [
    "ls"
   ]
  },
  {
   "cell_type": "code",
   "execution_count": 8,
   "id": "07c27e79",
   "metadata": {},
   "outputs": [],
   "source": [
    "import test46"
   ]
  },
  {
   "cell_type": "code",
   "execution_count": 9,
   "id": "99c45c36",
   "metadata": {},
   "outputs": [
    {
     "ename": "TypeError",
     "evalue": "'module' object is not callable",
     "output_type": "error",
     "traceback": [
      "\u001b[1;31m---------------------------------------------------------------------------\u001b[0m",
      "\u001b[1;31mTypeError\u001b[0m                                 Traceback (most recent call last)",
      "\u001b[1;32m~\\AppData\\Local\\Temp/ipykernel_12652/1086058637.py\u001b[0m in \u001b[0;36m<module>\u001b[1;34m\u001b[0m\n\u001b[1;32m----> 1\u001b[1;33m \u001b[0mtest46\u001b[0m\u001b[1;33m(\u001b[0m\u001b[1;36m3\u001b[0m\u001b[1;33m,\u001b[0m\u001b[1;36m4\u001b[0m\u001b[1;33m)\u001b[0m\u001b[1;33m\u001b[0m\u001b[1;33m\u001b[0m\u001b[0m\n\u001b[0m",
      "\u001b[1;31mTypeError\u001b[0m: 'module' object is not callable"
     ]
    }
   ],
   "source": [
    "test46(3,4)"
   ]
  },
  {
   "cell_type": "code",
   "execution_count": 12,
   "id": "ec6b0158",
   "metadata": {},
   "outputs": [
    {
     "name": "stdout",
     "output_type": "stream",
     "text": [
      " Volume in drive C has no label.\n",
      " Volume Serial Number is 7A9F-BBE3\n",
      "\n",
      " Directory of C:\\Users\\User\n",
      "\n",
      "05/29/2022  10:02 AM    <DIR>          .\n",
      "05/29/2022  10:02 AM    <DIR>          ..\n",
      "05/29/2022  09:08 AM    <DIR>          .ipynb_checkpoints\n",
      "03/18/2022  10:30 AM    <DIR>          .ipython\n",
      "04/02/2022  08:16 AM    <DIR>          .jupyter\n",
      "05/29/2022  09:57 AM    <DIR>          __pycache__\n",
      "03/05/2022  05:21 AM    <DIR>          3D Objects\n",
      "03/06/2022  04:00 PM    <DIR>          Anaconda3\n",
      "03/05/2022  05:21 AM    <DIR>          Contacts\n",
      "05/25/2022  08:01 PM    <DIR>          Desktop\n",
      "05/08/2022  06:17 PM    <DIR>          Documents\n",
      "05/29/2022  09:20 AM    <DIR>          Downloads\n",
      "04/19/2022  03:29 PM             2,426 Examples.ipynb\n",
      "05/25/2022  07:29 PM            32,271 Exception handling 1.ipynb\n",
      "03/05/2022  05:21 AM    <DIR>          Favorites\n",
      "05/06/2022  09:10 PM            26,051 Function 2.ipynb\n",
      "04/23/2022  06:18 PM            14,277 Function.ipynb\n",
      "05/22/2022  09:09 PM                 0 google\n",
      "05/08/2022  07:28 PM               327 google.txt\n",
      "05/09/2022  11:21 AM            46,135 Iterator generator file system.ipynb\n",
      "03/05/2022  05:21 AM    <DIR>          Links\n",
      "05/24/2022  07:19 PM             4,100 Logging.ipynb\n",
      "05/29/2022  10:00 AM             5,209 Module Discussion.ipynb\n",
      "03/05/2022  05:21 AM    <DIR>          Music\n",
      "05/29/2022  09:21 AM    <DIR>          Notepad++\n",
      "05/29/2022  09:01 AM    <DIR>          OneDrive\n",
      "03/05/2022  05:23 AM    <DIR>          Pictures\n",
      "04/05/2022  06:19 PM             4,240 Python Basics.ipynb\n",
      "05/03/2022  07:02 PM            13,015 Python Program Discussion 2.ipynb\n",
      "04/19/2022  03:17 PM             5,334 Python Program Discussion 3.ipynb\n",
      "04/15/2022  07:47 PM            11,983 Python Program Discussion.ipynb\n",
      "03/05/2022  05:21 AM    <DIR>          Saved Games\n",
      "03/05/2022  05:23 AM    <DIR>          Searches\n",
      "04/15/2022  05:12 AM            31,508 String,List & Indexing.ipynb\n",
      "05/08/2022  06:18 PM                37 test1.txt\n",
      "05/08/2022  05:56 PM                49 test2.txt\n",
      "05/23/2022  07:16 PM               387 test22.log\n",
      "05/19/2022  04:56 PM                22 test3.txt\n",
      "05/23/2022  07:23 PM               314 test33.log\n",
      "05/19/2022  05:00 PM                 0 test43.txt\n",
      "05/24/2022  07:01 PM             2,398 test44.log\n",
      "05/29/2022  09:56 AM                31 test46.py\n",
      "05/29/2022  10:03 AM                31 test77.py\n",
      "04/05/2022  06:19 PM            30,005 TUPLE , SET,DICT.ipynb\n",
      "03/20/2022  10:29 AM               742 Untitled.ipynb\n",
      "04/17/2022  09:49 AM             1,780 Untitled1.ipynb\n",
      "05/14/2022  06:36 AM               588 Untitled2.ipynb\n",
      "03/23/2022  08:14 PM    <DIR>          Videos\n",
      "              27 File(s)        233,260 bytes\n",
      "              21 Dir(s)  53,385,904,128 bytes free\n"
     ]
    }
   ],
   "source": [
    "ls"
   ]
  },
  {
   "cell_type": "code",
   "execution_count": 1,
   "id": "5f8a5335",
   "metadata": {},
   "outputs": [],
   "source": [
    "import test77"
   ]
  },
  {
   "cell_type": "code",
   "execution_count": 2,
   "id": "701effde",
   "metadata": {},
   "outputs": [
    {
     "data": {
      "text/plain": [
       "15"
      ]
     },
     "execution_count": 2,
     "metadata": {},
     "output_type": "execute_result"
    }
   ],
   "source": [
    "test77.test2(5,3)     #here given docstring"
   ]
  },
  {
   "cell_type": "code",
   "execution_count": 3,
   "id": "adeb44e1",
   "metadata": {},
   "outputs": [
    {
     "name": "stdout",
     "output_type": "stream",
     "text": [
      "raja\n"
     ]
    }
   ],
   "source": [
    "test77.test3()"
   ]
  },
  {
   "cell_type": "code",
   "execution_count": 2,
   "id": "d4d0dc19",
   "metadata": {},
   "outputs": [],
   "source": [
    "from test77 import test3       # import specific fun"
   ]
  },
  {
   "cell_type": "code",
   "execution_count": 3,
   "id": "d2bde0d5",
   "metadata": {},
   "outputs": [
    {
     "name": "stdout",
     "output_type": "stream",
     "text": [
      "raja\n"
     ]
    }
   ],
   "source": [
    "test3()"
   ]
  },
  {
   "cell_type": "code",
   "execution_count": 4,
   "id": "b032f741",
   "metadata": {},
   "outputs": [],
   "source": [
    "from test77 import*            # * - import all functions"
   ]
  },
  {
   "cell_type": "code",
   "execution_count": 6,
   "id": "e2f838a7",
   "metadata": {},
   "outputs": [
    {
     "data": {
      "text/plain": [
       "9"
      ]
     },
     "execution_count": 6,
     "metadata": {},
     "output_type": "execute_result"
    }
   ],
   "source": [
    "test77.test2(3,3)"
   ]
  },
  {
   "cell_type": "code",
   "execution_count": 3,
   "id": "f3debc39",
   "metadata": {},
   "outputs": [
    {
     "data": {
      "text/plain": [
       "['In',\n",
       " 'Out',\n",
       " '_',\n",
       " '_2',\n",
       " '__',\n",
       " '___',\n",
       " '__builtin__',\n",
       " '__builtins__',\n",
       " '__doc__',\n",
       " '__loader__',\n",
       " '__name__',\n",
       " '__package__',\n",
       " '__spec__',\n",
       " '_dh',\n",
       " '_i',\n",
       " '_i1',\n",
       " '_i2',\n",
       " '_i3',\n",
       " '_ih',\n",
       " '_ii',\n",
       " '_iii',\n",
       " '_oh',\n",
       " 'exit',\n",
       " 'get_ipython',\n",
       " 'quit',\n",
       " 'test77']"
      ]
     },
     "execution_count": 3,
     "metadata": {},
     "output_type": "execute_result"
    }
   ],
   "source": [
    "dir()"
   ]
  },
  {
   "cell_type": "code",
   "execution_count": 1,
   "id": "cea705ae",
   "metadata": {},
   "outputs": [
    {
     "data": {
      "text/plain": [
       "<_io.TextIOWrapper name='my_module.py' mode='w' encoding='cp1252'>"
      ]
     },
     "execution_count": 1,
     "metadata": {},
     "output_type": "execute_result"
    }
   ],
   "source": [
    "open(\"my_module.py\" , \"w\")"
   ]
  },
  {
   "cell_type": "code",
   "execution_count": 2,
   "id": "e0871dff",
   "metadata": {},
   "outputs": [
    {
     "name": "stdout",
     "output_type": "stream",
     "text": [
      " Volume in drive C has no label.\n",
      " Volume Serial Number is 7A9F-BBE3\n",
      "\n",
      " Directory of C:\\Users\\User\n",
      "\n",
      "05/30/2022  07:34 AM    <DIR>          .\n",
      "05/30/2022  07:34 AM    <DIR>          ..\n",
      "05/29/2022  10:07 AM    <DIR>          .ipynb_checkpoints\n",
      "03/18/2022  10:30 AM    <DIR>          .ipython\n",
      "04/02/2022  08:16 AM    <DIR>          .jupyter\n",
      "05/29/2022  11:53 AM    <DIR>          __pycache__\n",
      "03/05/2022  05:21 AM    <DIR>          3D Objects\n",
      "03/06/2022  04:00 PM    <DIR>          Anaconda3\n",
      "03/05/2022  05:21 AM    <DIR>          Contacts\n",
      "05/29/2022  11:39 AM    <DIR>          Desktop\n",
      "05/08/2022  06:17 PM    <DIR>          Documents\n",
      "05/29/2022  09:20 AM    <DIR>          Downloads\n",
      "04/19/2022  03:29 PM             2,426 Examples.ipynb\n",
      "05/25/2022  07:29 PM            32,271 Exception handling 1.ipynb\n",
      "03/05/2022  05:21 AM    <DIR>          Favorites\n",
      "05/06/2022  09:10 PM            26,051 Function 2.ipynb\n",
      "04/23/2022  06:18 PM            14,277 Function.ipynb\n",
      "05/22/2022  09:09 PM                 0 google\n",
      "05/08/2022  07:28 PM               327 google.txt\n",
      "05/09/2022  11:21 AM            46,135 Iterator generator file system.ipynb\n",
      "03/05/2022  05:21 AM    <DIR>          Links\n",
      "05/24/2022  07:19 PM             4,100 Logging.ipynb\n",
      "05/30/2022  07:34 AM            11,812 Module Discussion.ipynb\n",
      "03/05/2022  05:21 AM    <DIR>          Music\n",
      "05/30/2022  07:43 AM               220 my_module.py\n",
      "05/29/2022  09:21 AM    <DIR>          Notepad++\n",
      "05/30/2022  07:28 AM    <DIR>          OneDrive\n",
      "03/05/2022  05:23 AM    <DIR>          Pictures\n",
      "04/05/2022  06:19 PM             4,240 Python Basics.ipynb\n",
      "05/03/2022  07:02 PM            13,015 Python Program Discussion 2.ipynb\n",
      "04/19/2022  03:17 PM             5,334 Python Program Discussion 3.ipynb\n",
      "04/15/2022  07:47 PM            11,983 Python Program Discussion.ipynb\n",
      "03/05/2022  05:21 AM    <DIR>          Saved Games\n",
      "03/05/2022  05:23 AM    <DIR>          Searches\n",
      "04/15/2022  05:12 AM            31,508 String,List & Indexing.ipynb\n",
      "05/08/2022  06:18 PM                37 test1.txt\n",
      "05/08/2022  05:56 PM                49 test2.txt\n",
      "05/23/2022  07:16 PM               387 test22.log\n",
      "05/19/2022  04:56 PM                22 test3.txt\n",
      "05/23/2022  07:23 PM               314 test33.log\n",
      "05/19/2022  05:00 PM                 0 test43.txt\n",
      "05/24/2022  07:01 PM             2,398 test44.log\n",
      "05/29/2022  09:56 AM                31 test46.py\n",
      "05/29/2022  11:53 AM               159 test77.py\n",
      "04/05/2022  06:19 PM            30,005 TUPLE , SET,DICT.ipynb\n",
      "03/20/2022  10:29 AM               742 Untitled.ipynb\n",
      "04/17/2022  09:49 AM             1,780 Untitled1.ipynb\n",
      "05/14/2022  06:36 AM               588 Untitled2.ipynb\n",
      "05/29/2022  10:09 AM             1,068 Untitled3.ipynb\n",
      "03/23/2022  08:14 PM    <DIR>          Videos\n",
      "              29 File(s)        241,279 bytes\n",
      "              21 Dir(s)  53,453,492,224 bytes free\n"
     ]
    }
   ],
   "source": [
    "ls"
   ]
  },
  {
   "cell_type": "code",
   "execution_count": 6,
   "id": "e44ea80c",
   "metadata": {},
   "outputs": [],
   "source": [
    "import my_module"
   ]
  },
  {
   "cell_type": "code",
   "execution_count": 8,
   "id": "9eb8136e",
   "metadata": {},
   "outputs": [
    {
     "data": {
      "text/plain": [
       "['datascience,blockchain']"
      ]
     },
     "execution_count": 8,
     "metadata": {},
     "output_type": "execute_result"
    }
   ],
   "source": [
    "my_module.get_course()"
   ]
  },
  {
   "cell_type": "code",
   "execution_count": 9,
   "id": "4fa191ff",
   "metadata": {},
   "outputs": [
    {
     "data": {
      "text/plain": [
       "'greeting from ineuron'"
      ]
     },
     "execution_count": 9,
     "metadata": {},
     "output_type": "execute_result"
    }
   ],
   "source": [
    "my_module.get_greeting()"
   ]
  },
  {
   "cell_type": "code",
   "execution_count": null,
   "id": "abdbebda",
   "metadata": {},
   "outputs": [],
   "source": []
  }
 ],
 "metadata": {
  "kernelspec": {
   "display_name": "Python 3 (ipykernel)",
   "language": "python",
   "name": "python3"
  },
  "language_info": {
   "codemirror_mode": {
    "name": "ipython",
    "version": 3
   },
   "file_extension": ".py",
   "mimetype": "text/x-python",
   "name": "python",
   "nbconvert_exporter": "python",
   "pygments_lexer": "ipython3",
   "version": "3.9.7"
  }
 },
 "nbformat": 4,
 "nbformat_minor": 5
}
