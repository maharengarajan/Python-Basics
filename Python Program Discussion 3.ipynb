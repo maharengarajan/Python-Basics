{
 "cells": [
  {
   "cell_type": "code",
   "execution_count": 1,
   "id": "243276a3",
   "metadata": {},
   "outputs": [
    {
     "data": {
      "text/plain": [
       "29"
      ]
     },
     "execution_count": 1,
     "metadata": {},
     "output_type": "execute_result"
    }
   ],
   "source": [
    "s = \"This is my python basic class\"\n",
    "len(s)"
   ]
  },
  {
   "cell_type": "code",
   "execution_count": 8,
   "id": "ff528686",
   "metadata": {},
   "outputs": [
    {
     "name": "stdout",
     "output_type": "stream",
     "text": [
      "1\n",
      "2\n",
      "3\n",
      "4\n",
      "5\n",
      "6\n",
      "7\n",
      "8\n",
      "9\n",
      "10\n",
      "11\n",
      "12\n",
      "13\n",
      "14\n",
      "15\n",
      "16\n",
      "17\n",
      "18\n",
      "19\n",
      "20\n",
      "21\n",
      "22\n",
      "23\n",
      "24\n",
      "25\n",
      "26\n",
      "27\n",
      "28\n",
      "29\n"
     ]
    }
   ],
   "source": [
    "count = 0\n",
    "for i in s:\n",
    "    count = count + 1\n",
    "    print(count)"
   ]
  },
  {
   "cell_type": "code",
   "execution_count": 10,
   "id": "1a94ca28",
   "metadata": {},
   "outputs": [
    {
     "name": "stdout",
     "output_type": "stream",
     "text": [
      "notvoeel r\n",
      "vowel e\n",
      "notvoeel n\n",
      "notvoeel g\n",
      "vowel a\n",
      "notvoeel r\n",
      "vowel a\n",
      "notvoeel j\n",
      "vowel a\n",
      "notvoeel n\n"
     ]
    }
   ],
   "source": [
    "s = \"rengarajan\"                \n",
    "v = \"AaEeIiOoUu\"\n",
    "for i in s:\n",
    "    if i in v:\n",
    "        print(\"vowel\" , i)\n",
    "    else:\n",
    "        print(\"notvowel\" , i)"
   ]
  },
  {
   "cell_type": "code",
   "execution_count": 2,
   "id": "7cea952f",
   "metadata": {},
   "outputs": [
    {
     "ename": "SyntaxError",
     "evalue": "invalid syntax (Temp/ipykernel_8996/3022584384.py, line 3)",
     "output_type": "error",
     "traceback": [
      "\u001b[1;36m  File \u001b[1;32m\"C:\\Users\\User\\AppData\\Local\\Temp/ipykernel_8996/3022584384.py\"\u001b[1;36m, line \u001b[1;32m3\u001b[0m\n\u001b[1;33m    if :\u001b[0m\n\u001b[1;37m       ^\u001b[0m\n\u001b[1;31mSyntaxError\u001b[0m\u001b[1;31m:\u001b[0m invalid syntax\n"
     ]
    }
   ],
   "source": [
    "s = \"appa\"\n",
    "for i in s:\n",
    "    if :\n",
    "        s = [::]\n",
    "        print(i , \"palindrome\")\n",
    "    elif:\n",
    "        s = [::-1]\n",
    "        print(i , \"palindrome\")\n",
    "    "
   ]
  },
  {
   "cell_type": "code",
   "execution_count": 6,
   "id": "697f0744",
   "metadata": {},
   "outputs": [
    {
     "name": "stdout",
     "output_type": "stream",
     "text": [
      "malayalam\n",
      "palindrome malayalam\n"
     ]
    }
   ],
   "source": [
    "s = input()\n",
    "v = s[::-1]\n",
    "if s == v:\n",
    "    print(\"palindrome\" , s)\n",
    "else:\n",
    "    print(\"not_palindrome\" , s)"
   ]
  },
  {
   "cell_type": "code",
   "execution_count": 5,
   "id": "f774ff26",
   "metadata": {},
   "outputs": [],
   "source": [
    "d = {\"india\" : \"IN\",\n",
    "     \"china\" : \"CH\",\n",
    "     \"canada\" : \"CA\",\n",
    "     \"united states\" : \"US\"}\n",
    "\n",
    "l_greater = []\n",
    "l_smaller = []\n",
    "for i in d:\n",
    "    if len(i) <= 5:\n",
    "        l_smaller.append(i)\n",
    "    else:\n",
    "        l_greater.append(i)"
   ]
  },
  {
   "cell_type": "code",
   "execution_count": 6,
   "id": "74a084b8",
   "metadata": {},
   "outputs": [
    {
     "data": {
      "text/plain": [
       "['india', 'china']"
      ]
     },
     "execution_count": 6,
     "metadata": {},
     "output_type": "execute_result"
    }
   ],
   "source": [
    "l_smaller"
   ]
  },
  {
   "cell_type": "code",
   "execution_count": 7,
   "id": "e21b42a0",
   "metadata": {},
   "outputs": [
    {
     "data": {
      "text/plain": [
       "['canada', 'united states']"
      ]
     },
     "execution_count": 7,
     "metadata": {},
     "output_type": "execute_result"
    }
   ],
   "source": [
    "l_greater"
   ]
  },
  {
   "cell_type": "code",
   "execution_count": null,
   "id": "d0139826",
   "metadata": {},
   "outputs": [],
   "source": [
    "d1 = {\"ineuron\" : {\"a\" : 14,\n",
    "                   \"b\" : 15,\n",
    "                   \"c\" : 16},\n",
    "      \"course\" :  {\"d\" : 20,\n",
    "                   \"e\" : 21,\n",
    "                   \"f\" : 22}}\n",
    "\n",
    "                  "
   ]
  },
  {
   "cell_type": "code",
   "execution_count": null,
   "id": "f7220c28",
   "metadata": {},
   "outputs": [],
   "source": [
    "s = input()\n",
    "v = s[::-1]"
   ]
  },
  {
   "cell_type": "code",
   "execution_count": null,
   "id": "7ec9df0d",
   "metadata": {},
   "outputs": [],
   "source": []
  }
 ],
 "metadata": {
  "kernelspec": {
   "display_name": "Python 3 (ipykernel)",
   "language": "python",
   "name": "python3"
  },
  "language_info": {
   "codemirror_mode": {
    "name": "ipython",
    "version": 3
   },
   "file_extension": ".py",
   "mimetype": "text/x-python",
   "name": "python",
   "nbconvert_exporter": "python",
   "pygments_lexer": "ipython3",
   "version": "3.9.7"
  }
 },
 "nbformat": 4,
 "nbformat_minor": 5
}
