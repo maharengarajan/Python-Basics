{
 "cells": [
  {
   "cell_type": "code",
   "execution_count": 11,
   "id": "ddd66714",
   "metadata": {},
   "outputs": [],
   "source": [
    "class insta:\n",
    "    def share_stories(self):\n",
    "        print(\"this will share insta story\")\n",
    "        \n",
    "class facebook:\n",
    "    def share_stories(self):\n",
    "        print(\"this will share fb story\")"
   ]
  },
  {
   "cell_type": "code",
   "execution_count": 12,
   "id": "79632211",
   "metadata": {},
   "outputs": [],
   "source": [
    "i = insta()\n",
    "f = facebook()\n"
   ]
  },
  {
   "cell_type": "code",
   "execution_count": 13,
   "id": "96674f07",
   "metadata": {},
   "outputs": [
    {
     "name": "stdout",
     "output_type": "stream",
     "text": [
      "this will share insta story\n"
     ]
    }
   ],
   "source": [
    "i.share_stories()"
   ]
  },
  {
   "cell_type": "code",
   "execution_count": 14,
   "id": "6b0ce9ae",
   "metadata": {},
   "outputs": [
    {
     "name": "stdout",
     "output_type": "stream",
     "text": [
      "this will share fb story\n"
     ]
    }
   ],
   "source": [
    "f.share_stories()"
   ]
  },
  {
   "cell_type": "code",
   "execution_count": 7,
   "id": "7cd45043",
   "metadata": {},
   "outputs": [],
   "source": [
    "class social_media:\n",
    "    def share_stories(self):\n",
    "        print(\"this fun help me to share stories\")\n",
    "    def upload_pictures(self):\n",
    "        print(\"this will help me to upload pictures\")\n",
    "        \n",
    "class insta(social_media):\n",
    "    def share_stories(self):\n",
    "        print(\"this will help me to upload insta stories\")\n",
    "        \n",
    "class facebook(social_media):\n",
    "    def share_stories(self):\n",
    "        print(\"this will help me to upload fb storie\")"
   ]
  },
  {
   "cell_type": "code",
   "execution_count": 8,
   "id": "abff3101",
   "metadata": {},
   "outputs": [],
   "source": [
    "f = facebook()\n",
    "i = insta()"
   ]
  },
  {
   "cell_type": "code",
   "execution_count": 9,
   "id": "14c41374",
   "metadata": {},
   "outputs": [
    {
     "name": "stdout",
     "output_type": "stream",
     "text": [
      "this will help me to upload fb storie\n"
     ]
    }
   ],
   "source": [
    "f.share_stories()"
   ]
  },
  {
   "cell_type": "code",
   "execution_count": 10,
   "id": "505cfce0",
   "metadata": {},
   "outputs": [
    {
     "name": "stdout",
     "output_type": "stream",
     "text": [
      "this will help me to upload insta stories\n"
     ]
    }
   ],
   "source": [
    "i.share_stories()"
   ]
  },
  {
   "cell_type": "code",
   "execution_count": 15,
   "id": "703b8dda",
   "metadata": {},
   "outputs": [],
   "source": [
    "def test(a,b):\n",
    "    return a+b"
   ]
  },
  {
   "cell_type": "code",
   "execution_count": 16,
   "id": "33edf792",
   "metadata": {},
   "outputs": [
    {
     "data": {
      "text/plain": [
       "9"
      ]
     },
     "execution_count": 16,
     "metadata": {},
     "output_type": "execute_result"
    }
   ],
   "source": [
    "test(5,4)"
   ]
  },
  {
   "cell_type": "code",
   "execution_count": 17,
   "id": "f77702a9",
   "metadata": {},
   "outputs": [],
   "source": [
    "def test(a,b):\n",
    "    return(a+b)"
   ]
  },
  {
   "cell_type": "code",
   "execution_count": 18,
   "id": "0af82a20",
   "metadata": {},
   "outputs": [
    {
     "data": {
      "text/plain": [
       "'yogaraja'"
      ]
     },
     "execution_count": 18,
     "metadata": {},
     "output_type": "execute_result"
    }
   ],
   "source": [
    "test(\"yoga\" , \"raja\")"
   ]
  },
  {
   "cell_type": "code",
   "execution_count": 19,
   "id": "018f461b",
   "metadata": {},
   "outputs": [],
   "source": [
    "#functions are same but nature different this is called as polymorphism"
   ]
  },
  {
   "cell_type": "code",
   "execution_count": 20,
   "id": "77350b2f",
   "metadata": {},
   "outputs": [],
   "source": [
    "#creating our own exception class\n",
    "\n",
    "class test(Exception):\n",
    "    def __init__(self , msg):\n",
    "        self.msg = msg"
   ]
  },
  {
   "cell_type": "code",
   "execution_count": 21,
   "id": "a09e01aa",
   "metadata": {},
   "outputs": [
    {
     "name": "stdout",
     "output_type": "stream",
     "text": [
      "this is my own cutom class\n"
     ]
    }
   ],
   "source": [
    "try:\n",
    "    raise (test(\"this is my own cutom class\"))\n",
    "except test as t:\n",
    "    print(t)"
   ]
  },
  {
   "cell_type": "code",
   "execution_count": 22,
   "id": "a3c62c6f",
   "metadata": {},
   "outputs": [
    {
     "ename": "ZeroDivisionError",
     "evalue": "division by zero",
     "output_type": "error",
     "traceback": [
      "\u001b[1;31m---------------------------------------------------------------------------\u001b[0m",
      "\u001b[1;31mZeroDivisionError\u001b[0m                         Traceback (most recent call last)",
      "\u001b[1;32m~\\AppData\\Local\\Temp/ipykernel_3684/949940334.py\u001b[0m in \u001b[0;36m<module>\u001b[1;34m\u001b[0m\n\u001b[0;32m      1\u001b[0m \u001b[1;32mtry\u001b[0m\u001b[1;33m:\u001b[0m\u001b[1;33m\u001b[0m\u001b[1;33m\u001b[0m\u001b[0m\n\u001b[1;32m----> 2\u001b[1;33m     \u001b[1;36m5\u001b[0m\u001b[1;33m/\u001b[0m\u001b[1;36m0\u001b[0m\u001b[1;33m\u001b[0m\u001b[1;33m\u001b[0m\u001b[0m\n\u001b[0m\u001b[0;32m      3\u001b[0m     \u001b[1;32mraise\u001b[0m \u001b[1;33m(\u001b[0m\u001b[0mtest\u001b[0m\u001b[1;33m(\u001b[0m\u001b[1;34m\"this is my own cutom class\"\u001b[0m\u001b[1;33m)\u001b[0m\u001b[1;33m)\u001b[0m\u001b[1;33m\u001b[0m\u001b[1;33m\u001b[0m\u001b[0m\n\u001b[0;32m      4\u001b[0m \u001b[1;32mexcept\u001b[0m \u001b[0mtest\u001b[0m \u001b[1;32mas\u001b[0m \u001b[0mt\u001b[0m\u001b[1;33m:\u001b[0m\u001b[1;33m\u001b[0m\u001b[1;33m\u001b[0m\u001b[0m\n\u001b[0;32m      5\u001b[0m     \u001b[0mprint\u001b[0m\u001b[1;33m(\u001b[0m\u001b[0mt\u001b[0m\u001b[1;33m)\u001b[0m\u001b[1;33m\u001b[0m\u001b[1;33m\u001b[0m\u001b[0m\n",
      "\u001b[1;31mZeroDivisionError\u001b[0m: division by zero"
     ]
    }
   ],
   "source": [
    "try:\n",
    "    5/0\n",
    "    raise (test(\"this is my own cutom class\"))\n",
    "except test as t:\n",
    "    print(t)"
   ]
  },
  {
   "cell_type": "code",
   "execution_count": 1,
   "id": "a94db5bb",
   "metadata": {},
   "outputs": [],
   "source": [
    "#Abstraction\n",
    "\n",
    "class data_project():\n",
    "    \n",
    "    def read_file(self):\n",
    "        pass\n",
    "    \n",
    "    def validate_file_name(self):\n",
    "        pass\n",
    "    \n",
    "    def validate_data_type(self):\n",
    "        pass\n",
    "    \n",
    "    def validate_db_connection(self):\n",
    "        pass"
   ]
  },
  {
   "cell_type": "code",
   "execution_count": 2,
   "id": "c2cb7a0b",
   "metadata": {},
   "outputs": [],
   "source": [
    "class db_ops(data_project):\n",
    "    pass"
   ]
  },
  {
   "cell_type": "code",
   "execution_count": null,
   "id": "d0ef24a5",
   "metadata": {},
   "outputs": [],
   "source": []
  }
 ],
 "metadata": {
  "kernelspec": {
   "display_name": "Python 3 (ipykernel)",
   "language": "python",
   "name": "python3"
  },
  "language_info": {
   "codemirror_mode": {
    "name": "ipython",
    "version": 3
   },
   "file_extension": ".py",
   "mimetype": "text/x-python",
   "name": "python",
   "nbconvert_exporter": "python",
   "pygments_lexer": "ipython3",
   "version": "3.9.7"
  }
 },
 "nbformat": 4,
 "nbformat_minor": 5
}
